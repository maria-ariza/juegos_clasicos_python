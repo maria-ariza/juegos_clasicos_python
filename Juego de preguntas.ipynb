{
 "cells": [
  {
   "cell_type": "markdown",
   "metadata": {},
   "source": [
    "Juego de preguntas: \n",
    "\n",
    "1. Mujeres en la ciencia. (Cada respuesta correcta podría incluir una mini biografía de la mujer). \n",
    "\n",
    "\n",
    "**¿Quién se ha colado en el juego? Hacer temáticas para que se puedan combinar.**\n",
    "\n",
    "Adivina la \"fake news\".(Cada respuesta correcta podría incluir la noticia verdadera o la historia detrás de la falsa a modo de premio). \n",
    "\n",
    "¿Quién dijo qué? ---> ¿Belén Esteban o Barack Obama? "
   ]
  },
  {
   "cell_type": "code",
   "execution_count": 2,
   "metadata": {},
   "outputs": [
    {
     "data": {
      "text/plain": [
       "<bound method Random.choice of <random.Random object at 0x134827020>>"
      ]
     },
     "execution_count": 2,
     "metadata": {},
     "output_type": "execute_result"
    }
   ],
   "source": [
    "import random \n",
    "random.choice"
   ]
  },
  {
   "cell_type": "code",
   "execution_count": 3,
   "metadata": {},
   "outputs": [
    {
     "name": "stdout",
     "output_type": "stream",
     "text": [
      "¡Fallaste!\n",
      "¡Fallaste!\n",
      "Lo has adivinado\n"
     ]
    }
   ],
   "source": [
    "animales = [\"perro\", \"gato\", \"pájaro\", \"caballo\"]\n",
    "animal = random.choice(animales)\n",
    "while True: #La condición que estamos pasando el while es while True.\n",
    "    usuaria = input(\"Adivina el animal: {animales}\") #le damos pista diciendo que la palabra que va a elegir está en la lista de animales. \n",
    "    if usuaria == animal:\n",
    "        print(\"Lo has adivinado\")\n",
    "        break\n",
    "    else:\n",
    "        print(\"¡Fallaste!\")"
   ]
  },
  {
   "cell_type": "markdown",
   "metadata": {},
   "source": [
    "---"
   ]
  },
  {
   "cell_type": "markdown",
   "metadata": {},
   "source": [
    "# PSEUDOCODIGO: Juego de Preguntas."
   ]
  },
  {
   "cell_type": "markdown",
   "metadata": {},
   "source": [
    "---"
   ]
  },
  {
   "cell_type": "markdown",
   "metadata": {},
   "source": [
    "`PREGUNTAS`:"
   ]
  },
  {
   "cell_type": "markdown",
   "metadata": {},
   "source": [
    "1. ¿Qué queremos hacer?\n",
    "2. ¿Como lo vamos hacer?\n",
    "3. ¿Por qué lo hacemos así?"
   ]
  },
  {
   "cell_type": "markdown",
   "metadata": {},
   "source": [
    "1- Quiero hacer un juego de preguntas.(START)"
   ]
  },
  {
   "cell_type": "markdown",
   "metadata": {},
   "source": [
    "2 - Haciendole preguntas al usuario.(STEPS)"
   ]
  },
  {
   "cell_type": "markdown",
   "metadata": {},
   "source": [
    "3- Para ver que sabe el usuario.(STOP)"
   ]
  },
  {
   "cell_type": "markdown",
   "metadata": {},
   "source": [
    "---"
   ]
  },
  {
   "cell_type": "markdown",
   "metadata": {},
   "source": [
    "- __START__:"
   ]
  },
  {
   "cell_type": "markdown",
   "metadata": {},
   "source": [
    "1. __`MENSAJE`__: Bienbenida + Presentación del juego + Empezar __`(Press Enter)`__."
   ]
  },
  {
   "cell_type": "markdown",
   "metadata": {},
   "source": [
    "- Bienbenida: \"Bienbenido al Juego de FakeNews, donde tendras que poner a prueba tus conocimentos.\" \n",
    "- Presentación: \"En este Juego tendras que resolver 10 preguntas, donde tendras 3 respuestas con una a elegir(Ten cuidado con lo que elijes).\n",
    "- Empezar: \"Press Enter\"."
   ]
  },
  {
   "cell_type": "markdown",
   "metadata": {},
   "source": [
    "2. __`PREGUNTA`__: Ingrese su nombre:."
   ]
  },
  {
   "cell_type": "markdown",
   "metadata": {},
   "source": [
    "- Pregunta: \"Dime como te llamas: nombre_usuario\"."
   ]
  },
  {
   "cell_type": "markdown",
   "metadata": {},
   "source": [
    "3. __`MENSAJE`__: <u>Nombre_usuario</u> + listos para empezar. __`Press Enter`__."
   ]
  },
  {
   "cell_type": "markdown",
   "metadata": {},
   "source": [
    "- Mensaje: \"Perfecto \"Nombre_usuario\", estamos listos para empezar\". __`Press Enter`__"
   ]
  },
  {
   "cell_type": "markdown",
   "metadata": {},
   "source": [
    "---"
   ]
  },
  {
   "cell_type": "markdown",
   "metadata": {},
   "source": [
    "- __STEPS__:"
   ]
  },
  {
   "cell_type": "markdown",
   "metadata": {},
   "source": [
    "-- El Juego consta de 10 preguntas"
   ]
  },
  {
   "cell_type": "markdown",
   "metadata": {},
   "source": [
    "1. Voy a crear un diccionarío donde se van a encontrar las 10 preguntas."
   ]
  },
  {
   "cell_type": "markdown",
   "metadata": {},
   "source": [
    "- preguntas = {\"PREGUNTA1\": \"a, b, c\", \"PREGUNTA2\": \"a, b, c\", \"PREGUNTA3\": \"a, b, c\", \"PREGUNTA4\": \"a, b, c\"......etc }\n",
    "- Las preguntas las concretare con Marina ^^."
   ]
  },
  {
   "cell_type": "markdown",
   "metadata": {},
   "source": [
    "2. Las preguntas tendran un orden predeterminado. (Primero sencillas y luego dificiles)."
   ]
  },
  {
   "cell_type": "markdown",
   "metadata": {},
   "source": [
    "3. Habrá una solución unica entre las 3 opciones. (Con dos intentos por pregunta)-->__`EXTRA`__"
   ]
  },
  {
   "cell_type": "markdown",
   "metadata": {},
   "source": [
    "- Pudiendo utilizar una forma abreviada con list compresión."
   ]
  },
  {
   "cell_type": "markdown",
   "metadata": {},
   "source": [
    "4. Habrá un mensaje de \"Correcto\" si el usuario acierta y otro mensaje de \"Incorrecto\" si el usuario falla. (Un mensaje personalizado por cada respuesta)-->__`EXTRA`__"
   ]
  },
  {
   "cell_type": "markdown",
   "metadata": {},
   "source": [
    "- Correcto : \"Genial has acertado, dependiendo de la pregunta se añade un comentario al respecto.\"\n",
    "- Incorrecto : \" Lo siento pero NO, en otra será.\""
   ]
  },
  {
   "cell_type": "markdown",
   "metadata": {},
   "source": [
    "5. Si falla o acierta pasamos a la siguiente pregunta, hasta llegar a las 10 preguntas."
   ]
  },
  {
   "cell_type": "markdown",
   "metadata": {},
   "source": [
    "---"
   ]
  },
  {
   "cell_type": "markdown",
   "metadata": {},
   "source": [
    "- __`STOP`__:"
   ]
  },
  {
   "cell_type": "markdown",
   "metadata": {},
   "source": [
    "1. __`MENSAJE`__: Resultado de los aciertos y fallos del usuario."
   ]
  },
  {
   "cell_type": "markdown",
   "metadata": {},
   "source": [
    "- \"Muy bien \"nombre_usuario\" aqui tienes tus resultados:\n",
    "- \"Has acertado : x y has fallado: z.\""
   ]
  },
  {
   "cell_type": "markdown",
   "metadata": {},
   "source": [
    "__`EXTRA`__ --> \n",
    "- Si falla mas de lo que acierta -- Mensaje: \"Estudia mas para la proxima\".\n",
    "- Si acierta mas de lo que falla -- Mensaje: \"Eres mas listo de lo que parece\"."
   ]
  },
  {
   "cell_type": "code",
   "execution_count": null,
   "metadata": {},
   "outputs": [],
   "source": [
    "# Estamos accediendo a cada elemento de la lista por su indice en bucle.(asignacion directa)\n",
    "lista = [1,2,\"hola\",4,5]\n",
    "for i in range(len(lista)):\n",
    "    if lista[i] == \"hola\":\n",
    "        lista[i] = 3\n",
    "lista"
   ]
  }
 ],
 "metadata": {
  "kernelspec": {
   "display_name": "Python 3",
   "language": "python",
   "name": "python3"
  },
  "language_info": {
   "codemirror_mode": {
    "name": "ipython",
    "version": 3
   },
   "file_extension": ".py",
   "mimetype": "text/x-python",
   "name": "python",
   "nbconvert_exporter": "python",
   "pygments_lexer": "ipython3",
   "version": "3.9.12"
  }
 },
 "nbformat": 4,
 "nbformat_minor": 2
}
