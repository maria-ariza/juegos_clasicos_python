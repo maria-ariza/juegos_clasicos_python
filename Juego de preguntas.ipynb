{
 "cells": [
  {
   "cell_type": "markdown",
   "metadata": {},
   "source": [
    "Juego de preguntas: "
   ]
  },
  {
   "cell_type": "code",
   "execution_count": 2,
   "metadata": {},
   "outputs": [
    {
     "data": {
      "text/plain": [
       "<bound method Random.choice of <random.Random object at 0x134827020>>"
      ]
     },
     "execution_count": 2,
     "metadata": {},
     "output_type": "execute_result"
    }
   ],
   "source": [
    "import random \n",
    "random.choice"
   ]
  },
  {
   "cell_type": "code",
   "execution_count": 3,
   "metadata": {},
   "outputs": [
    {
     "name": "stdout",
     "output_type": "stream",
     "text": [
      "¡Fallaste!\n",
      "¡Fallaste!\n",
      "Lo has adivinado\n"
     ]
    }
   ],
   "source": [
    "animales = [\"perro\", \"gato\", \"pájaro\", \"caballo\"]\n",
    "animal = random.choice(animales)\n",
    "while True: #La condición que estamos pasando el while es while True.\n",
    "    usuaria = input(\"Adivina el animal: {animales}\") #le damos pista diciendo que la palabra que va a elegir está en la lista de animales. \n",
    "    if usuaria == animal:\n",
    "        print(\"Lo has adivinado\")\n",
    "        break\n",
    "    else:\n",
    "        print(\"¡Fallaste!\")"
   ]
  },
  {
   "cell_type": "code",
   "execution_count": null,
   "metadata": {},
   "outputs": [],
   "source": []
  }
 ],
 "metadata": {
  "kernelspec": {
   "display_name": "Python 3",
   "language": "python",
   "name": "python3"
  },
  "language_info": {
   "codemirror_mode": {
    "name": "ipython",
    "version": 3
   },
   "file_extension": ".py",
   "mimetype": "text/x-python",
   "name": "python",
   "nbconvert_exporter": "python",
   "pygments_lexer": "ipython3",
   "version": "3.12.6"
  }
 },
 "nbformat": 4,
 "nbformat_minor": 2
}
