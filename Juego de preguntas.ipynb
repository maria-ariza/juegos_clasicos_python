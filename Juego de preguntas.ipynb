{
 "cells": [
  {
   "cell_type": "markdown",
   "metadata": {},
   "source": [
    "Juego de preguntas: \n",
    "\n",
    "1. Mujeres en la ciencia. (Cada respuesta correcta podría incluir una mini biografía de la mujer). \n",
    "\n",
    "\n",
    "**¿Quién se ha colado en el juego? Hacer temáticas para que se puedan combinar.**\n",
    "\n",
    "Adivina la \"fake news\".(Cada respuesta correcta podría incluir la noticia verdadera o la historia detrás de la falsa a modo de premio). \n",
    "\n",
    "¿Quién dijo qué? ---> ¿Belén Esteban o Barack Obama? "
   ]
  },
  {
   "cell_type": "code",
   "execution_count": 2,
   "metadata": {},
   "outputs": [
    {
     "data": {
      "text/plain": [
       "<bound method Random.choice of <random.Random object at 0x134827020>>"
      ]
     },
     "execution_count": 2,
     "metadata": {},
     "output_type": "execute_result"
    }
   ],
   "source": [
    "import random \n",
    "random.choice"
   ]
  },
  {
   "cell_type": "code",
   "execution_count": 3,
   "metadata": {},
   "outputs": [
    {
     "name": "stdout",
     "output_type": "stream",
     "text": [
      "¡Fallaste!\n",
      "¡Fallaste!\n",
      "Lo has adivinado\n"
     ]
    }
   ],
   "source": [
    "animales = [\"perro\", \"gato\", \"pájaro\", \"caballo\"]\n",
    "animal = random.choice(animales)\n",
    "while True: #La condición que estamos pasando el while es while True.\n",
    "    usuaria = input(\"Adivina el animal: {animales}\") #le damos pista diciendo que la palabra que va a elegir está en la lista de animales. \n",
    "    if usuaria == animal:\n",
    "        print(\"Lo has adivinado\")\n",
    "        break\n",
    "    else:\n",
    "        print(\"¡Fallaste!\")"
   ]
  },
  {
   "cell_type": "markdown",
   "metadata": {},
   "source": [
    "---"
   ]
  },
  {
   "cell_type": "markdown",
   "metadata": {},
   "source": [
    "# PSEUDOCODIGO: Juego de Preguntas."
   ]
  },
  {
   "cell_type": "markdown",
   "metadata": {},
   "source": [
    "---"
   ]
  },
  {
   "cell_type": "markdown",
   "metadata": {},
   "source": [
    "`PREGUNTAS`:"
   ]
  },
  {
   "cell_type": "markdown",
   "metadata": {},
   "source": [
    "1. ¿Qué queremos hacer?\n",
    "2. ¿Como lo vamos hacer?\n",
    "3. ¿Por qué lo hacemos así?"
   ]
  },
  {
   "cell_type": "markdown",
   "metadata": {},
   "source": [
    "1- Quiero hacer un juego de preguntas.(START)"
   ]
  },
  {
   "cell_type": "markdown",
   "metadata": {},
   "source": [
    "2 - Haciendole preguntas al usuario.(STEPS)"
   ]
  },
  {
   "cell_type": "markdown",
   "metadata": {},
   "source": [
    "3- Para ver que sabe el usuario.(STOP)"
   ]
  },
  {
   "cell_type": "markdown",
   "metadata": {},
   "source": [
    "---"
   ]
  },
  {
   "cell_type": "markdown",
   "metadata": {},
   "source": [
    "- __START__:"
   ]
  },
  {
   "cell_type": "markdown",
   "metadata": {},
   "source": [
    "1. __`MENSAJE`__: Bienbenida + Presentación del juego + Empezar __`(Press Enter)`__."
   ]
  },
  {
   "cell_type": "markdown",
   "metadata": {},
   "source": [
    "- Bienbenida: \"Bienbenido al Juego de FakeNews, donde tendras que poner a prueba tus conocimentos.\" \n",
    "- Presentación: \"En este Juego tendras que resolver 10 preguntas, donde tendras 3 respuestas con una a elegir(Ten cuidado con lo que elijes).\n",
    "- Empezar: \"Press Enter\"."
   ]
  },
  {
   "cell_type": "markdown",
   "metadata": {},
   "source": [
    "2. __`PREGUNTA`__: Ingrese su nombre:."
   ]
  },
  {
   "cell_type": "markdown",
   "metadata": {},
   "source": [
    "- Pregunta: \"Dime como te llamas: nombre_usuario\"."
   ]
  },
  {
   "cell_type": "markdown",
   "metadata": {},
   "source": [
    "3. __`MENSAJE`__: <u>Nombre_usuario</u> + listos para empezar. __`Press Enter`__."
   ]
  },
  {
   "cell_type": "markdown",
   "metadata": {},
   "source": [
    "- Mensaje: \"Perfecto \"Nombre_usuario\", estamos listos para empezar\". __`Press Enter`__"
   ]
  },
  {
   "cell_type": "markdown",
   "metadata": {},
   "source": [
    "---"
   ]
  },
  {
   "cell_type": "markdown",
   "metadata": {},
   "source": [
    "- __STEPS__:"
   ]
  },
  {
   "cell_type": "markdown",
   "metadata": {},
   "source": [
    "-- El Juego consta de 10 preguntas"
   ]
  },
  {
   "cell_type": "markdown",
   "metadata": {},
   "source": [
    "1. Voy a crear un diccionarío donde se van a encontrar las 10 preguntas."
   ]
  },
  {
   "cell_type": "markdown",
   "metadata": {},
   "source": [
    "- preguntas = {\"PREGUNTA1\": \"a, b, c\", \"PREGUNTA2\": \"a, b, c\", \"PREGUNTA3\": \"a, b, c\", \"PREGUNTA4\": \"a, b, c\"......etc }\n",
    "- Las preguntas las concretare con Marina ^^."
   ]
  },
  {
   "cell_type": "markdown",
   "metadata": {},
   "source": [
    "2. Las preguntas tendran un orden predeterminado. (Primero sencillas y luego dificiles)."
   ]
  },
  {
   "cell_type": "markdown",
   "metadata": {},
   "source": [
    "3. Habrá una solución unica entre las 3 opciones. (Con dos intentos por pregunta)-->__`EXTRA`__"
   ]
  },
  {
   "cell_type": "markdown",
   "metadata": {},
   "source": [
    "- Pudiendo utilizar una forma abreviada con list compresión."
   ]
  },
  {
   "cell_type": "markdown",
   "metadata": {},
   "source": [
    "4. Habrá un mensaje de \"Correcto\" si el usuario acierta y otro mensaje de \"Incorrecto\" si el usuario falla. (Un mensaje personalizado por cada respuesta)-->__`EXTRA`__ (racha de preguntas + mensaje personalizado)"
   ]
  },
  {
   "cell_type": "markdown",
   "metadata": {},
   "source": [
    "- Correcto : \"Genial has acertado, dependiendo de la pregunta se añade un comentario al respecto.\"\n",
    "- Incorrecto : \" Lo siento pero NO, en otra será.\""
   ]
  },
  {
   "cell_type": "markdown",
   "metadata": {},
   "source": [
    "5. Si falla o acierta pasamos a la siguiente pregunta, hasta llegar a las 10 preguntas."
   ]
  },
  {
   "cell_type": "markdown",
   "metadata": {},
   "source": [
    "---"
   ]
  },
  {
   "cell_type": "markdown",
   "metadata": {},
   "source": [
    "- __`STOP`__:"
   ]
  },
  {
   "cell_type": "markdown",
   "metadata": {},
   "source": [
    "1. __`MENSAJE`__: Resultado de los aciertos y fallos del usuario."
   ]
  },
  {
   "cell_type": "markdown",
   "metadata": {},
   "source": [
    "- \"Muy bien \"nombre_usuario\" aqui tienes tus resultados:\n",
    "- \"Has acertado : x y has fallado: z.\""
   ]
  },
  {
   "cell_type": "markdown",
   "metadata": {},
   "source": [
    "__`EXTRA`__ --> \n",
    "- Si falla mas de lo que acierta -- Mensaje: \"Estudia mas para la proxima\".\n",
    "- Si acierta mas de lo que falla -- Mensaje: \"Eres mas listo de lo que parece\".\n",
    "- si aciertas lo mismo que fallas -- Mensaje: \"Te has quedado a la mitad del camino\"\n",
    "- Si aciertas 4 y fallas 6, dar una oportunidad para sacar un aprobado."
   ]
  },
  {
   "cell_type": "markdown",
   "metadata": {},
   "source": [
    "---"
   ]
  },
  {
   "cell_type": "code",
   "execution_count": 1,
   "metadata": {},
   "outputs": [],
   "source": [
    "import random"
   ]
  },
  {
   "cell_type": "code",
   "execution_count": null,
   "metadata": {},
   "outputs": [],
   "source": [
    "random.choice"
   ]
  },
  {
   "cell_type": "code",
   "execution_count": 3,
   "metadata": {},
   "outputs": [
    {
     "name": "stdout",
     "output_type": "stream",
     "text": [
      "Bienvenide al 🔎:“Algoritmo de la verdad”:tecnóloga::tono-de-piel-2: un juego en el que tendrás que demostrar tus dotes de data analyst :detective_mujer::tono-de-piel-4: :detective_mujer::tono-de-piel-5: (o detective):detective_mujer::tono-de-piel-2::detective_mujer::tono-de-piel-3:  y discernir entre la realidad :marca_de_verificación_blanca: y la mentira:cara_de_mentiroso:.\n",
      "Verás 10 preguntas con 4 opciones, con UNA sola respuesta que es VERDAD.¡Pero ojo cuidao! No todo es lo que parece y en este juego… ¡Mucho menos! :cabeza_explotando:¿Quién se va a poner a poner a prueba?  :índice_apuntando_al_usuario::tono-de-piel-3::índice_apuntando_al_usuario::tono-de-piel-5:  Dinos tu nombre :índice_apuntando_al_usuario::tono-de-piel-4: :índice_apuntando_al_usuario::tono-de-piel-6:Ahora sí que sí...:tambor_con_baquetas::tambor_con_baquetas::tambor_con_baquetas::tambor_con_baquetas:¡Estamos ready para empezar el “Algoritmo de la verdad”!:cohete::cohete::cohete:\n",
      "PressEnter\n",
      "Hola  bienvenida al juego del algoritmo de la verdad, YA estamos READY para empezar.\n"
     ]
    }
   ],
   "source": [
    "bienbenida = \"Bienvenide al 🔎:“Algoritmo de la verdad”:tecnóloga::tono-de-piel-2: un juego en el que tendrás que demostrar tus dotes de data analyst :detective_mujer::tono-de-piel-4: :detective_mujer::tono-de-piel-5: (o detective):detective_mujer::tono-de-piel-2::detective_mujer::tono-de-piel-3:  y discernir entre la realidad :marca_de_verificación_blanca: y la mentira:cara_de_mentiroso:.\"\n",
    "presentacion = \"\"\"Verás 10 preguntas con 4 opciones, con UNA sola respuesta que es VERDAD.¡Pero ojo cuidao! No todo es lo que parece y en este juego… ¡Mucho menos! :cabeza_explotando:¿Quién se va a poner a poner a prueba?  :índice_apuntando_al_usuario::tono-de-piel-3::índice_apuntando_al_usuario::tono-de-piel-5:  Dinos tu nombre :índice_apuntando_al_usuario::tono-de-piel-4: :índice_apuntando_al_usuario::tono-de-piel-6:Ahora sí que sí...:tambor_con_baquetas::tambor_con_baquetas::tambor_con_baquetas::tambor_con_baquetas:¡Estamos ready para empezar el “Algoritmo de la verdad”!:cohete::cohete::cohete:\"\"\"\n",
    "star = \"PressEnter\"\n",
    "\n",
    "print(bienbenida)\n",
    "print(presentacion)\n",
    "print(star)\n",
    "\n",
    "star_game = input(\"PressEnter\")\n",
    "nombre_usuario = input(\"Dime tu nombre:\")\n",
    "print(f\"Hola {nombre_usuario} bienvenida al juego del algoritmo de la verdad, YA estamos READY para empezar.\")\n",
    "\n",
    "preguntas = {\n",
    "    1: {\n",
    "        \"Pregunta\": \"¿Cuál de las siguientes historias sobre Belén Esteban es MENTIRA?\",\n",
    "        \"respuestas\": {\"A.\": \"BB\", \"B.\": \"CC\", \"C\": \"hh\"},\n",
    "        \"respuesta_correcta\": \"A\"\n",
    "}\n",
    "    2: {}\n",
    "}\n",
    "# contador de preguntas\n",
    "controlador_preguntas = 0\n",
    "# puntuaje\n",
    "puntuaje = 0\n",
    "\n",
    "while controlador_preguntas <= 10 :\n",
    "\n",
    "    pregunta_actual = preguntas[controlador_preguntas]\n",
    "\n",
    "    # Mostrar la pregunta y las opciones\n",
    "    print(pregunta_actual[\"pregunta\"])\n",
    "    \n",
    "\n",
    "\n",
    "\n",
    "\n",
    "\n",
    "\n",
    "\n"
   ]
  },
  {
   "cell_type": "code",
   "execution_count": null,
   "metadata": {},
   "outputs": [],
   "source": [
    "# Estamos accediendo a cada elemento de la lista por su indice en bucle.(asignacion directa)\n",
    "lista = [1,2,\"hola\",4,5]\n",
    "for i in range(len(lista)):\n",
    "    if lista[i] == \"hola\":\n",
    "        lista[i] = 3\n",
    "lista"
   ]
  },
  {
   "cell_type": "code",
   "execution_count": 5,
   "metadata": {},
   "outputs": [
    {
     "name": "stdout",
     "output_type": "stream",
     "text": [
      "¡Bienvenido al juego de 10 preguntas!\n",
      "¿Cuál es el planeta más grande del sistema solar?\n",
      "a) Marte\n",
      "b) Júpiter\n",
      "c) Saturno\n",
      "Incorrecto. La respuesta correcta es: b.\n",
      "¿En qué continente está Brasil?\n",
      "a) Europa\n",
      "b) América\n",
      "c) África\n",
      "Respuesta no válida. Intenta de nuevo.\n",
      "¿En qué continente está Brasil?\n",
      "a) Europa\n",
      "b) América\n",
      "c) África\n",
      "Respuesta no válida. Intenta de nuevo.\n",
      "¿En qué continente está Brasil?\n",
      "a) Europa\n",
      "b) América\n",
      "c) África\n",
      "Respuesta no válida. Intenta de nuevo.\n",
      "¿En qué continente está Brasil?\n",
      "a) Europa\n",
      "b) América\n",
      "c) África\n",
      "Respuesta no válida. Intenta de nuevo.\n",
      "¿En qué continente está Brasil?\n",
      "a) Europa\n",
      "b) América\n",
      "c) África\n",
      "Respuesta no válida. Intenta de nuevo.\n",
      "¿En qué continente está Brasil?\n",
      "a) Europa\n",
      "b) América\n",
      "c) África\n",
      "Respuesta no válida. Intenta de nuevo.\n",
      "¿En qué continente está Brasil?\n",
      "a) Europa\n",
      "b) América\n",
      "c) África\n",
      "Respuesta no válida. Intenta de nuevo.\n",
      "¿En qué continente está Brasil?\n",
      "a) Europa\n",
      "b) América\n",
      "c) África\n",
      "Incorrecto. La respuesta correcta es: b.\n",
      "¿Qué instrumento mide la temperatura?\n",
      "a) Termómetro\n",
      "b) Barómetro\n",
      "c) Anemómetro\n",
      "Incorrecto. La respuesta correcta es: a.\n",
      "¿Cuántos minutos tiene una hora?\n",
      "a) 100\n",
      "b) 60\n",
      "c) 120\n",
      "Incorrecto. La respuesta correcta es: b.\n",
      "¿Cuál es el océano más grande del mundo?\n",
      "a) Atlántico\n",
      "b) Índico\n",
      "c) Pacífico\n",
      "¡Correcto!.\n",
      "¿Quién pintó la Mona Lisa?\n",
      "a) Leonardo da Vinci\n",
      "b) Picasso\n",
      "c) Van Gogh\n",
      "Incorrecto. La respuesta correcta es: a.\n",
      "¿Cuál es el metal más abundante en la Tierra?\n",
      "a) Aluminio\n",
      "b) Cobre\n",
      "c) Hierro\n",
      "¡Correcto!.\n",
      "¿Qué país tiene la mayor población mundial?\n",
      "a) India\n",
      "b) China\n",
      "c) Estados Unidos\n",
      "Incorrecto. La respuesta correcta es: b.\n",
      "¿Cómo se llama el proceso por el cual las plantas obtienen energía?\n",
      "a) Fotosíntesis\n",
      "b) Oxidación\n",
      "c) Respiración\n",
      "Incorrecto. La respuesta correcta es: a.\n",
      "¿Cuál es el único mamífero que puede volar?\n",
      "a) Murciélago\n",
      "b) Águila\n",
      "c) Paloma\n",
      "Incorrecto. La respuesta correcta es: a.\n",
      "Juego terminado. Respondiste correctamente 2 de 10 preguntas.\n",
      "Necesitas estudiar más, sigue practicando.\n"
     ]
    }
   ],
   "source": [
    "# Diccionario que almacena las preguntas, opciones y respuestas correctas\n",
    "preguntas = {\n",
    "    1: {\n",
    "        \"pregunta\": \"¿Cuál es el planeta más grande del sistema solar?\",\n",
    "        \"opciones\": {\"a\": \"Marte\", \"b\": \"Júpiter\", \"c\": \"Saturno\"},\n",
    "        \"respuesta_correcta\": \"b\"\n",
    "    },\n",
    "    2: {\n",
    "        \"pregunta\": \"¿En qué continente está Brasil?\",\n",
    "        \"opciones\": {\"a\": \"Europa\", \"b\": \"América\", \"c\": \"África\"},\n",
    "        \"respuesta_correcta\": \"b\"\n",
    "    },\n",
    "    3: {\n",
    "        \"pregunta\": \"¿Qué instrumento mide la temperatura?\",\n",
    "        \"opciones\": {\"a\": \"Termómetro\", \"b\": \"Barómetro\", \"c\": \"Anemómetro\"},\n",
    "        \"respuesta_correcta\": \"a\"\n",
    "    },\n",
    "    4: {\n",
    "        \"pregunta\": \"¿Cuántos minutos tiene una hora?\",\n",
    "        \"opciones\": {\"a\": \"100\", \"b\": \"60\", \"c\": \"120\"},\n",
    "        \"respuesta_correcta\": \"b\"\n",
    "    },\n",
    "    5: {\n",
    "        \"pregunta\": \"¿Cuál es el océano más grande del mundo?\",\n",
    "        \"opciones\": {\"a\": \"Atlántico\", \"b\": \"Índico\", \"c\": \"Pacífico\"},\n",
    "        \"respuesta_correcta\": \"c\"\n",
    "    },\n",
    "    6: {\n",
    "        \"pregunta\": \"¿Quién pintó la Mona Lisa?\",\n",
    "        \"opciones\": {\"a\": \"Leonardo da Vinci\", \"b\": \"Picasso\", \"c\": \"Van Gogh\"},\n",
    "        \"respuesta_correcta\": \"a\"\n",
    "    },\n",
    "    7: {\n",
    "        \"pregunta\": \"¿Cuál es el metal más abundante en la Tierra?\",\n",
    "        \"opciones\": {\"a\": \"Aluminio\", \"b\": \"Cobre\", \"c\": \"Hierro\"},\n",
    "        \"respuesta_correcta\": \"c\"\n",
    "    },\n",
    "    8: {\n",
    "        \"pregunta\": \"¿Qué país tiene la mayor población mundial?\",\n",
    "        \"opciones\": {\"a\": \"India\", \"b\": \"China\", \"c\": \"Estados Unidos\"},\n",
    "        \"respuesta_correcta\": \"b\"\n",
    "    },\n",
    "    9: {\n",
    "        \"pregunta\": \"¿Cómo se llama el proceso por el cual las plantas obtienen energía?\",\n",
    "        \"opciones\": {\"a\": \"Fotosíntesis\", \"b\": \"Oxidación\", \"c\": \"Respiración\"},\n",
    "        \"respuesta_correcta\": \"a\"\n",
    "    },\n",
    "    10: {\n",
    "        \"pregunta\": \"¿Cuál es el único mamífero que puede volar?\",\n",
    "        \"opciones\": {\"a\": \"Murciélago\", \"b\": \"Águila\", \"c\": \"Paloma\"},\n",
    "        \"respuesta_correcta\": \"a\"\n",
    "    }\n",
    "}\n",
    "\n",
    "puntaje = 0\n",
    "i = 1  # Contador de preguntas\n",
    "\n",
    "print(\"¡Bienvenido al juego de 10 preguntas!\")\n",
    "\n",
    "# Bucle while para recorrer las preguntas\n",
    "while i <= 10:\n",
    "    pregunta_actual = preguntas[i]\n",
    "    \n",
    "    # Mostrar la pregunta y opciones\n",
    "    print(pregunta_actual[\"pregunta\"])\n",
    "    print(f\"a) {pregunta_actual['opciones']['a']}\")\n",
    "    print(f\"b) {pregunta_actual['opciones']['b']}\")\n",
    "    print(f\"c) {pregunta_actual['opciones']['c']}\")\n",
    "    \n",
    "    respuesta_usuario = input(\"Elige una opción (a, b, c): \").lower()\n",
    "    \n",
    "    # Verificar si la respuesta es válida (solo acepta a, b o c)\n",
    "    if respuesta_usuario not in [\"a\", \"b\", \"c\"]:\n",
    "        print(\"Respuesta no válida. Intenta de nuevo.\")\n",
    "        continue  # Si la respuesta no es válida, vuelve a pedir la misma pregunta\n",
    "    \n",
    "    # Verificar si la respuesta es correcta\n",
    "    if respuesta_usuario == pregunta_actual[\"respuesta_correcta\"]:\n",
    "        print(\"¡Correcto!.\")\n",
    "        puntaje += 1  # Suma 1 punto si la respuesta es correcta\n",
    "    else:\n",
    "        print(f\"Incorrecto. La respuesta correcta es: {pregunta_actual['respuesta_correcta']}.\")\n",
    "    \n",
    "    i += 1  # Avanza a la siguiente pregunta\n",
    "\n",
    "# Mostrar el puntaje final\n",
    "print(f\"Juego terminado. Respondiste correctamente {puntaje} de 10 preguntas.\")\n",
    "\n",
    "# Comentarios según el puntaje\n",
    "if puntaje == 10:\n",
    "    print(\"¡Excelente! Eres un genio.\")\n",
    "elif puntaje >= 7:\n",
    "    print(\"¡Muy bien hecho! Sabes bastante.\")\n",
    "elif puntaje >= 4:\n",
    "    print(\"No está mal, pero puedes mejorar.\")\n",
    "else:\n",
    "    print(\"Necesitas estudiar más, sigue practicando.\")\n"
   ]
  },
  {
   "cell_type": "code",
   "execution_count": null,
   "metadata": {},
   "outputs": [],
   "source": []
  }
 ],
 "metadata": {
  "kernelspec": {
   "display_name": "Python 3",
   "language": "python",
   "name": "python3"
  },
  "language_info": {
   "codemirror_mode": {
    "name": "ipython",
    "version": 3
   },
   "file_extension": ".py",
   "mimetype": "text/x-python",
   "name": "python",
   "nbconvert_exporter": "python",
   "pygments_lexer": "ipython3",
   "version": "3.9.12"
  }
 },
 "nbformat": 4,
 "nbformat_minor": 2
}
