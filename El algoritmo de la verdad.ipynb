{
 "cells": [
  {
   "cell_type": "markdown",
   "metadata": {},
   "source": [
    "---"
   ]
  },
  {
   "cell_type": "markdown",
   "metadata": {},
   "source": [
    "# PSEUDOCODIGO: Juego de Preguntas."
   ]
  },
  {
   "cell_type": "markdown",
   "metadata": {},
   "source": [
    "---"
   ]
  },
  {
   "cell_type": "markdown",
   "metadata": {},
   "source": [
    "`PREGUNTAS`:"
   ]
  },
  {
   "cell_type": "markdown",
   "metadata": {},
   "source": [
    "1. ¿Qué queremos hacer?\n",
    "2. ¿Como lo vamos hacer?\n",
    "3. ¿Por qué lo hacemos así?"
   ]
  },
  {
   "cell_type": "markdown",
   "metadata": {},
   "source": [
    "1- Quiero hacer un juego de preguntas.(START)"
   ]
  },
  {
   "cell_type": "markdown",
   "metadata": {},
   "source": [
    "2 - Haciendole preguntas al usuario.(STEPS)"
   ]
  },
  {
   "cell_type": "markdown",
   "metadata": {},
   "source": [
    "3- Para ver que sabe el usuario.(STOP)"
   ]
  },
  {
   "cell_type": "markdown",
   "metadata": {},
   "source": [
    "---"
   ]
  },
  {
   "cell_type": "markdown",
   "metadata": {},
   "source": [
    "- __START__:"
   ]
  },
  {
   "cell_type": "markdown",
   "metadata": {},
   "source": [
    "1. __`MENSAJE`__: Bienbenida + Presentación del juego + Empezar __`(Press Enter)`__."
   ]
  },
  {
   "cell_type": "markdown",
   "metadata": {},
   "source": [
    "- Bienbenida: \"Bienbenido al Juego de FakeNews, donde tendras que poner a prueba tus conocimentos.\" \n",
    "- Presentación: \"En este Juego tendras que resolver 10 preguntas, donde tendras 3 respuestas con una a elegir(Ten cuidado con lo que elijes).\n",
    "- Empezar: \"Press Enter\"."
   ]
  },
  {
   "cell_type": "markdown",
   "metadata": {},
   "source": [
    "2. __`PREGUNTA`__: Ingrese su nombre:."
   ]
  },
  {
   "cell_type": "markdown",
   "metadata": {},
   "source": [
    "- Pregunta: \"Dime como te llamas: nombre_usuario\"."
   ]
  },
  {
   "cell_type": "markdown",
   "metadata": {},
   "source": [
    "3. __`MENSAJE`__: <u>Nombre_usuario</u> + listos para empezar. __`Press Enter`__."
   ]
  },
  {
   "cell_type": "markdown",
   "metadata": {},
   "source": [
    "- Mensaje: \"Perfecto \"Nombre_usuario\", estamos listos para empezar\". __`Press Enter`__"
   ]
  },
  {
   "cell_type": "markdown",
   "metadata": {},
   "source": [
    "---"
   ]
  },
  {
   "cell_type": "markdown",
   "metadata": {},
   "source": [
    "- __STEPS__:"
   ]
  },
  {
   "cell_type": "markdown",
   "metadata": {},
   "source": [
    "-- El Juego consta de 10 preguntas"
   ]
  },
  {
   "cell_type": "markdown",
   "metadata": {},
   "source": [
    "1. Voy a crear un diccionarío donde se van a encontrar las 10 preguntas."
   ]
  },
  {
   "cell_type": "markdown",
   "metadata": {},
   "source": [
    "- preguntas = {\"PREGUNTA1\": \"a, b, c\", \"PREGUNTA2\": \"a, b, c\", \"PREGUNTA3\": \"a, b, c\", \"PREGUNTA4\": \"a, b, c\"......etc }\n",
    "- Las preguntas las concretare con Marina ^^."
   ]
  },
  {
   "cell_type": "markdown",
   "metadata": {},
   "source": [
    "2. Las preguntas tendran un orden predeterminado. (Primero sencillas y luego dificiles)."
   ]
  },
  {
   "cell_type": "markdown",
   "metadata": {},
   "source": [
    "3. Habrá una solución unica entre las 3 opciones. (Con dos intentos por pregunta)-->__`EXTRA`__"
   ]
  },
  {
   "cell_type": "markdown",
   "metadata": {},
   "source": [
    "- Pudiendo utilizar una forma abreviada con list compresión."
   ]
  },
  {
   "cell_type": "markdown",
   "metadata": {},
   "source": [
    "4. Habrá un mensaje de \"Correcto\" si el usuario acierta y otro mensaje de \"Incorrecto\" si el usuario falla. (Un mensaje personalizado por cada respuesta)-->__`EXTRA`__ (racha de preguntas + mensaje personalizado)"
   ]
  },
  {
   "cell_type": "markdown",
   "metadata": {},
   "source": [
    "- Correcto : \"Genial has acertado, dependiendo de la pregunta se añade un comentario al respecto.\"\n",
    "- Incorrecto : \" Lo siento pero NO, en otra será.\""
   ]
  },
  {
   "cell_type": "markdown",
   "metadata": {},
   "source": [
    "5. Si falla o acierta pasamos a la siguiente pregunta, hasta llegar a las 10 preguntas."
   ]
  },
  {
   "cell_type": "markdown",
   "metadata": {},
   "source": [
    "---"
   ]
  },
  {
   "cell_type": "markdown",
   "metadata": {},
   "source": [
    "- __`STOP`__:"
   ]
  },
  {
   "cell_type": "markdown",
   "metadata": {},
   "source": [
    "1. __`MENSAJE`__: Resultado de los aciertos y fallos del usuario."
   ]
  },
  {
   "cell_type": "markdown",
   "metadata": {},
   "source": [
    "- \"Muy bien \"nombre_usuario\" aqui tienes tus resultados:\n",
    "- \"Has acertado : x y has fallado: z.\""
   ]
  },
  {
   "cell_type": "markdown",
   "metadata": {},
   "source": [
    "__`EXTRA`__ --> \n",
    "- Si falla mas de lo que acierta -- Mensaje: \"Estudia mas para la proxima\".\n",
    "- Si acierta mas de lo que falla -- Mensaje: \"Eres mas listo de lo que parece\".\n",
    "- si aciertas lo mismo que fallas -- Mensaje: \"Te has quedado a la mitad del camino\"\n",
    "- Si aciertas 4 y fallas 6, dar una oportunidad para sacar un aprobado."
   ]
  },
  {
   "cell_type": "markdown",
   "metadata": {},
   "source": [
    "---"
   ]
  },
  {
   "cell_type": "markdown",
   "metadata": {},
   "source": [
    "# CÓDIGO :"
   ]
  },
  {
   "cell_type": "code",
   "execution_count": null,
   "metadata": {},
   "outputs": [],
   "source": [
    "bienvenida = \"\"\"Bienvenida al 🔎 “Algoritmo de la verdad” 👩🏼‍💻 : un juego en el que tendrás que demostrar tus dotes\n",
    "de data analyst(o detective)🕵🏽‍♀️ y discernir entre la realidad ✅ y la mentira 🤥\"\"\"\n",
    "presentación = \"\"\"Verás 10 preguntas con 4 opciones con UNA sola respuesta que es CORRECTA (que puede ser VERDAD O MENTIRA).\n",
    "¡Pero ojo cuidao!👀 No todo es lo que parece y en este juego… ¡Mucho menos!🤯 \"\"\"\n",
    "\n",
    "print(bienvenida)\n",
    "print(\"-------------------------------------------------------------------------------------------------------\")\n",
    "print(presentación)\n",
    "\n",
    "nombre_usuario = input(\"¿Quién se va a poner a poner a prueba? 🧐 Dinos tu nombre🫵🏼:\")\n",
    "print(\"-------------------------------------------------------------------------------------------------------\")                \n",
    "print(f\"Ahora sí que sí...🥁🥁🥁 {nombre_usuario} ¡Estamos ready para empezar el “Algoritmo de la verdad”!🚀🚀🚀\")\n",
    "print(\"-------------------------------------------------------------------------------------------------------\")\n",
    "\n",
    "print(\"PressEnter\")\n",
    "start_game = input(\"PressEnter\")\n",
    "\n",
    "# Diccionario que almacena las preguntas, respuestas y respuesta_correcta.\n",
    "preguntas = {\n",
    "    1:  {\n",
    "        \"pregunta\": \"1. ¿Cuál de estas historias sobre inteligencia artificial es VERDAD?\",\n",
    "        \"respuestas\": {\"a)\": \"Una IA escribió una novela que ganó un premio literario en Japón.\", \n",
    "                       \"b)\": \"Una IA fue nombrada CEO de una empresa tecnológica en Silicon Valley.\", \n",
    "                       \"c)\": \"Un programa de IA creó una obra de arte vendida por millones de dólares en una subasta.\",\n",
    "                       \"d)\": \"Un robot con IA ganó una competición de ajedrez contra el campeón mundial sin entrenamiento previo.\"},\n",
    "        \"respuesta_correcta\": \"c. En 2018, una obra creada por IA se vendió en una subasta por 432.500 dólares.💸\"\n",
    "    },\n",
    "    2:  {\n",
    "        \"pregunta\": \"2. ¿Cuál de estas noticias sobre avances médicos es MENTIRA?\",\n",
    "        \"respuestas\": {\"a)\": \"Un científico chino modificó genéticamente a dos bebés para que sean inmunes al VIH.\", \n",
    "                       \"b)\": \"En 2025, se espera que los órganos impresos en 3D estén disponibles para trasplantes humanos.\", \n",
    "                       \"c)\": \"Un hospital en Alemania curó una enfermedad genética rara mediante terapia de genes.\",\n",
    "                       \"d)\": \"Un equipo en Islandia logró clonar un mamut utilizando ADN prehistórico.\"},\n",
    "        \"respuesta_correcta\": \"d. Aunque se ha investigado la clonación de mamuts, aún no se ha logrado..🦣\"\n",
    "\n",
    "    },\n",
    "    3:  {\n",
    "        \"pregunta\": \"3. ¿Cuál de estas noticias sobre animales es VERDAD?\",\n",
    "        \"respuestas\": {\"a)\": \"Un perro salvó a su dueño de un incendio en su casa en Londres.\", \n",
    "                       \"b)\": \"Un gato fue premiado por guiar a un turista perdido en los Alpes hasta un refugio.\",\n",
    "                       \"c)\": \"Un delfín rescató a un grupo de buceadores en una cueva subterránea en Australia.\",\n",
    "                       \"d)\": \"Un elefante se unió a una protesta en defensa de los derechos animales en Tailandia.\"},\n",
    "       \"respuesta_correcta\": \"b. Existen reportes de un gato que guió a un turista en los Alpes hasta un lugar seguro.😻\"\n",
    "\n",
    "    },\n",
    "    4:  {\n",
    "        \"pregunta\": \"4. ¿Cuál de estos hechos son MENTIRA?\",\n",
    "        \"respuestas\": {\"a)\": \"Un niño en Canadá creó un dispositivo que limpia los océanos y fue premiado por la ONU.\", \n",
    "                       \"b)\": \"Un proyecto en Países Bajos convierte casas abandonadas en refugios para abejas.\", \n",
    "                       \"c)\": \"Un grupo de jubilados en España plantó 10.000 árboles en un solo día\",\n",
    "                       \"d)\": \"Un programa en Suecia permite a las personas donar su energía sobrante de paneles solares a hospitales.\"},\n",
    "        \"respuesta_correcta\": \"a. No existe ningún niño en Canadá que haya creado un dispositivo para limpiar océanos.🌊\"\n",
    "\n",
    "    },\n",
    "    5:  {\n",
    "        \"pregunta\": \"5. ¿Cuál de estos logros es VERDAD?\",\n",
    "        \"respuestas\": {\"a)\": \"Una científica desarrolló una vacuna contra el cáncer de piel.\", \n",
    "                       \"b)\": \"Una ingeniera mexicana inventó una prótesis que puede ser controlada por la mente.\", \n",
    "                       \"c)\": \"Una activista de 16 años creó una fundación para enseñar a niñas a codificar.\",\n",
    "                       \"d)\": \"Una deportista de 55 años ganó una medalla de oro en natación en los Juegos Olímpicos.\"},\n",
    "        \"respuesta_correcta\": \"c.Alexandria Villaseñor, una activista juvenil, fundó una organización para combatir el cambio climático y para enseñar a niñas a codificar.👏🏼\"\n",
    " \n",
    "    },\n",
    "    6:  {\n",
    "        \"pregunta\": \"6. ¿Cuál de estas noticias es MENTIRA?\",\n",
    "        \"respuestas\": {\"a)\": \"Una mujer fue elegida primera ministra de su país a los 25 años.\", \n",
    "                       \"b)\": \"Una activista ganó el Nobel de la Paz por sus esfuerzos en promover la educación de las niñas en África.\", \n",
    "                       \"c)\": \"Una astronauta pasó 1 año en el espacio sin regresar a la Tierra.\",\n",
    "                       \"d)\": \"Una escritora se convirtió en la mujer más joven en ganar el premio Pulitzer por una novela.\"},\n",
    "        \"respuesta_correcta\": \"a. No ha habido ninguna mujer elegida primera ministra a los 25 años, pero tiempo al tiempo.😉\"\n",
    "    },\n",
    "    7:  {\n",
    "        \"pregunta\": \"7. ¿Cuál de las siguientes historias, aunque parezca inverosímil, son VERDAD?\",\n",
    "        \"respuestas\": {\"a)\": \"Un hombre logró sobrevivir cayendo desde un avión sin paracaídas gracias a una pila de heno que amortiguó su caída.\", \n",
    "                       \"b)\": \"Un grupo de científicos descubrió un tiburón de más de 500 años nadando en el Ártico.\", \n",
    "                       \"c)\": \"Se reportó que un gato callejero atravesó medio país para volver con su dueño después de que lo dieron en adopción.\",\n",
    "                       \"d)\": \"Una mujer fue rescatada en el Himalaya por un Yeti después de quedar atrapada en una avalancha.\"},\n",
    "        \"respuesta_correcta\": \"b. Se descubrió un tiburón de Groenlandia que tiene más de 500 años.🦈\"\n",
    "    },\n",
    "    8:  {\n",
    "        \"pregunta\": \"8. ¿Cuál de estas historias por muy creíble que parezca, son MENTIRA??\",\n",
    "        \"respuestas\": {\"a)\": \"Un millonario japonés compró una isla desierta para construir un parque temático inspirado en películas de terror.\", \n",
    "                       \"b)\": \"Un grupo de arqueólogos en América del Sur descubrió una ciudad perdida con tecnología avanzada desconocida para la época.\", \n",
    "                       \"c)\": \"Un magnate de Silicon Valley declaró que se está preparando para congelar su cuerpo y revivirlo en el futuro.\",\n",
    "                       \"d)\": \"Una tribu aislada en el Amazonas fue contactada por primera vez en 2023 tras décadas de permanecer desconocida para la humanidad.\"},\n",
    "        \"respuesta_correcta\": \"b. Aunque se han encontrado ruinas antiguas en América del Sur, nunca se ha descubierto una ciudad con tecnología avanzada para su época.🫠\"\n",
    "    },\n",
    "    9:  {\n",
    "        \"pregunta\": \"9. ¿Cuál de las siguientes noticias, a pesar de ser surrealistas, son VERDAD?\",\n",
    "        \"respuestas\": {\"a)\": \"David Bustamente anunció su retiro de la música para abrir una granja en Cantabria.\", \n",
    "                       \"b)\": \"Anabel Pantoja fue sorprendida organizando una quedada de fans en un karaoke en la playa, con disfraces de tiburones incluidos.\", \n",
    "                       \"c)\": \"Isabel Pantoja lanzará una línea de perfumes inspirados en las noches de Cantora\",\n",
    "                       \"d)\": \"Kiko Rivera se ha propuesto hacer una gira nacional de DJ... ¡pero solo en bodas y bautizos!\"},\n",
    "        \"respuesta_correcta\": \"c. Isabel Pantoja lanzará una línea de perfumes inspirados en las noches de Cantora.💃🏽\"\n",
    "    },\n",
    "    10: {\n",
    "        \"pregunta\": \"10. ¿Cuál de las siguientes historias sobre Belén Esteban son MENTIRA?\",\n",
    "        \"respuestas\": {\"a)\": \"Rompió un plato en directo durante una discusión acalorada en televisión.\", \n",
    "                       \"b)\": \"Participó en una campaña para defender el uso de protectores solares.\", \n",
    "                       \"c)\": \"Hizo un directo accidental en Instagram mientras dormía.\",\n",
    "                       \"d)\": \"Fue acusada de tener problemas con la seguridad del aeropuerto por llevar un perfume en la maleta.\"},\n",
    "        \"respuesta_correcta\": \"b. Belén nunca participó en una campaña de protectores solares. Las demás son reales.😱\"\n",
    "    }\n",
    "}\n",
    "\n",
    "\n",
    "# iniciamos el controlador de preguntas en uno porque en el diccionario empieza por uno si no me da error.\n",
    "controlador_preguntas = 1\n",
    "# iniciamos el puntuaje en 0. \n",
    "puntaje = 0\n",
    "\n",
    "# Utilizo el bucle WHILE para recorrer las preguntas.\n",
    "while controlador_preguntas < 11 :\n",
    "\n",
    "    pregunta_actual = preguntas[controlador_preguntas]\n",
    "\n",
    "    # Para mostrar la pregunta y las opciones busco detro del diccionario, donde le estoy pidiendo que acceda a la pregunta actual (key) y a los valores de 'respuesta' : sub-diccionario.\n",
    "    print(pregunta_actual[\"pregunta\"]) # Aquí se imprime el texto de la pregunta que se va a mostrar al usuario.\n",
    "    print(\"--\")\n",
    "    print(\"a)\", pregunta_actual[\"respuestas\"]['a)']) # Aqui se imprime la opcion respuesta \"a\" que esta detro del subdiccionario.\n",
    "    print(\"b)\", pregunta_actual[\"respuestas\"]['b)']) # \"\"\"\" \"b\"\n",
    "    print(\"c)\", pregunta_actual[\"respuestas\"]['c)']) # \"\"\"\" \"c\"\n",
    "    print(\"d)\", pregunta_actual[\"respuestas\"]['d)']) # \"\"\"\" \"d\"\n",
    "\n",
    "    respuesta_usuario = input(\"Ponte a prueba y elije una respuesta 🤓(a, b, c, d)🤓:\").lower() # Le pedimos al usuario que nos diga una respuesta.\n",
    "\n",
    "    # Verificar si la respuesta es correcta\n",
    "    if respuesta_usuario in ['a', 'b', 'c', 'd']:\n",
    "        \n",
    "        if respuesta_usuario == pregunta_actual[\"respuesta_correcta\"][0]:\n",
    "\n",
    "            print(\"-------------------------------------------------------------------------------\")\n",
    "            print(\"Esto es...😎 ✅CORRECTO✅ 😎 Cada vez te acercas más a superar al Algoritmo de la verdad.\")\n",
    "            print(pregunta_actual['respuesta_correcta'])\n",
    "            print(\"-------------------------------------------------------------------------------\")\n",
    "            \n",
    "            puntaje += 1  # Suma 1 si la respuesta es correcta y se almacena para luego el resultado.\n",
    "    \n",
    "        else: # Aqui si el usuario se equivoca, se lo hago saber y se suma 1 error. \n",
    "            print(\"-------------------------------------------------------------------------------\")\n",
    "            print(f\"Esto es...🤧 😱INCORRECTO😱 🤧\") \n",
    "            print(f\"La respuesta correcta es: {pregunta_actual['respuesta_correcta']}.\")\n",
    "            print(\"-------------------------------------------------------------------------------\")\n",
    "\n",
    "        next_cuestion = input(\"😎¿¿Preparada para la siguiente pregunta??😎\")\n",
    "\n",
    "    else :\n",
    "        print(\"-----------------------------------------------------------------------------------\")\n",
    "        print(\"Ui ⛓️‍💥 creo que no estás poniendo una letra válida🤯\")\n",
    "        print(\"-----------------------------------------------------------------------------------\")\n",
    "        continue\n",
    "    \n",
    "    controlador_preguntas += 1  # Avanza a la siguiente pregunta \n",
    "\n",
    "# Para mostrar el puntaje final:\n",
    "print(f\"Bueno, bueno, bueno... Has conseguido {puntaje} puntos. ¿Estás satisfecha con el resultado?😌\")\n",
    "\n",
    "# Comentarios personalizados según el puntaje:\n",
    "if puntaje == 10:\n",
    "    print(f\"Podemos llamarte {nombre_usuario}, pero creemos que te pega más: 👑 REINA DEL ALGORITMO DE LA VERDAD 👑👏🏼👏🏼👏🏼\")\n",
    "elif puntaje >= 7:\n",
    "    print(f\"¡Vaya crack! {nombre_usuario}, how wonderful life is, now you're in the world🎶🫶🏼\")\n",
    "elif puntaje >= 4:\n",
    "    print(f\"Es un raspao pero {nombre_usuario}, oye, lo importante es participar, ¿no?😉\")\n",
    "\n",
    "else:\n",
    "    print(F\"¡No te vengas abajo {nombre_usuario}, seguro que a la próxima lo petas💪🏼\")\n"
   ]
  }
 ],
 "metadata": {
  "kernelspec": {
   "display_name": "base",
   "language": "python",
   "name": "python3"
  },
  "language_info": {
   "codemirror_mode": {
    "name": "ipython",
    "version": 3
   },
   "file_extension": ".py",
   "mimetype": "text/x-python",
   "name": "python",
   "nbconvert_exporter": "python",
   "pygments_lexer": "ipython3",
   "version": "3.9.12"
  }
 },
 "nbformat": 4,
 "nbformat_minor": 2
}
