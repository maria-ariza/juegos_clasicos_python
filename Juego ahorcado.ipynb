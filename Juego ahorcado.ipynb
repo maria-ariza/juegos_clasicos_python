{
 "cells": [
  {
   "cell_type": "markdown",
   "metadata": {},
   "source": [
    "Juego del ahorcado:"
   ]
  },
  {
   "cell_type": "markdown",
   "metadata": {},
   "source": [
    "Las reglas del ahorcado son:\n",
    "\n",
    "1. Sugiriendo letras una por una, el usuario intenta adivinar la palabra oculta.\n",
    "\n",
    "2. Si la letra sugerida está en la palabra, ésta aparecerá en el lugar correspondiente de los guiones. \n",
    "\n",
    "3. Si la letra no está en la palabra, aparecerá una parte del cuerpo del ahorcado.\n",
    "\n",
    "4. El juego continúa hasta que el usuario adivine la palabra o se complete el dibujo del ahorcado.\n",
    "\n",
    "NOTA: El usuario tendrá 7 vidas (sugerencia)"
   ]
  },
  {
   "cell_type": "code",
   "execution_count": 12,
   "metadata": {},
   "outputs": [
    {
     "name": "stdout",
     "output_type": "stream",
     "text": [
      "\n",
      "      +---+\n",
      "      |   |\n",
      "      O   |\n",
      "     \\|/  |\n",
      "      |   |\n",
      "     / \\  |\n",
      "          |\n",
      "    =========\n",
      "\n",
      "      +---+\n",
      "      |   |\n",
      "      O   |\n",
      "     /|\\  |\n",
      "      |   |\n",
      "     / \\  |\n",
      "          |\n",
      "    =========\n"
     ]
    },
    {
     "name": "stderr",
     "output_type": "stream",
     "text": [
      "<>:3: SyntaxWarning: invalid escape sequence '\\|'\n",
      "<>:13: SyntaxWarning: invalid escape sequence '\\ '\n",
      "<>:3: SyntaxWarning: invalid escape sequence '\\|'\n",
      "<>:13: SyntaxWarning: invalid escape sequence '\\ '\n",
      "C:\\Users\\ariza\\AppData\\Local\\Temp\\ipykernel_24568\\3986473345.py:3: SyntaxWarning: invalid escape sequence '\\|'\n",
      "  print('''\n",
      "C:\\Users\\ariza\\AppData\\Local\\Temp\\ipykernel_24568\\3986473345.py:13: SyntaxWarning: invalid escape sequence '\\ '\n",
      "  print('''\n"
     ]
    }
   ],
   "source": [
    "#representación gráfica\n",
    "\n",
    "print('''\n",
    "      +---+\n",
    "      |   |\n",
    "      O   |\n",
    "     \\|/  |\n",
    "      |   |\n",
    "     / \\  |\n",
    "          |\n",
    "    =========''')\n",
    "\n",
    "print('''\n",
    "      +---+\n",
    "      |   |\n",
    "      O   |\n",
    "     /|\\  |\n",
    "      |   |\n",
    "     / \\  |\n",
    "          |\n",
    "    =========''')"
   ]
  },
  {
   "cell_type": "markdown",
   "metadata": {},
   "source": [
    "# Pseudocódigo\n",
    "\n",
    "- Importamos una lista de palabras de la temática que queramos\n",
    "\n",
    "`[Lista de palabras random]`\n",
    "\n",
    "- De manera aleatoria, se selecciona una palabra de esa lista\n",
    "\n",
    "`seleccionar palabra de [Lista de palabras random]`\n",
    "\n",
    "- Imprimimos los guiones para indicar al usuario cuántas letras tiene la palabra. (Sugerencia: imprimir también \"La palabra tiene X letras\").\n",
    "Imprimimos también la base de la ahorca.\n",
    "\n",
    "`imprimir(número de guiones = longitud de palabra)`\n",
    "`imprimir(gráfico base ahorca)`\n",
    "\n",
    "- Solicitamos al usuario que inserte una letra de la A a la Z\n",
    "\n",
    "`input una letra`\n",
    "\n",
    "- Si la letra introducida se encuentra en la palabra, se mostrará en pantalla la letra en el lugar correspondiente de la palabra."
   ]
  }
 ],
 "metadata": {
  "kernelspec": {
   "display_name": "base",
   "language": "python",
   "name": "python3"
  },
  "language_info": {
   "codemirror_mode": {
    "name": "ipython",
    "version": 3
   },
   "file_extension": ".py",
   "mimetype": "text/x-python",
   "name": "python",
   "nbconvert_exporter": "python",
   "pygments_lexer": "ipython3",
   "version": "3.12.4"
  }
 },
 "nbformat": 4,
 "nbformat_minor": 2
}
