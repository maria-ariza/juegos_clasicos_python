{
 "cells": [
  {
   "cell_type": "markdown",
   "metadata": {},
   "source": [
    "Juego del ahorcado:"
   ]
  },
  {
   "cell_type": "markdown",
   "metadata": {},
   "source": [
    "Las reglas del ahorcado son:\n",
    "\n",
    "1. Sugiriendo letras una por una, el usuario intenta adivinar la palabra oculta.\n",
    "\n",
    "2. Si la letra sugerida está en la palabra, ésta aparecerá en el lugar correspondiente de los guiones. \n",
    "\n",
    "3. Si la letra no está en la palabra, aparecerá una parte del cuerpo del ahorcado.\n",
    "\n",
    "4. El juego continúa hasta que el usuario adivine la palabra o se complete el dibujo del ahorcado.\n",
    "\n",
    "NOTA: El usuario tendrá 7 vidas (sugerencia)"
   ]
  },
  {
   "cell_type": "code",
   "execution_count": 12,
   "metadata": {},
   "outputs": [
    {
     "name": "stdout",
     "output_type": "stream",
     "text": [
      "\n",
      "      +---+\n",
      "      |   |\n",
      "      O   |\n",
      "     \\|/  |\n",
      "      |   |\n",
      "     / \\  |\n",
      "          |\n",
      "    =========\n",
      "\n",
      "      +---+\n",
      "      |   |\n",
      "      O   |\n",
      "     /|\\  |\n",
      "      |   |\n",
      "     / \\  |\n",
      "          |\n",
      "    =========\n"
     ]
    },
    {
     "name": "stderr",
     "output_type": "stream",
     "text": [
      "<>:3: SyntaxWarning: invalid escape sequence '\\|'\n",
      "<>:13: SyntaxWarning: invalid escape sequence '\\ '\n",
      "<>:3: SyntaxWarning: invalid escape sequence '\\|'\n",
      "<>:13: SyntaxWarning: invalid escape sequence '\\ '\n",
      "C:\\Users\\ariza\\AppData\\Local\\Temp\\ipykernel_24568\\3986473345.py:3: SyntaxWarning: invalid escape sequence '\\|'\n",
      "  print('''\n",
      "C:\\Users\\ariza\\AppData\\Local\\Temp\\ipykernel_24568\\3986473345.py:13: SyntaxWarning: invalid escape sequence '\\ '\n",
      "  print('''\n"
     ]
    }
   ],
   "source": [
    "#representación gráfica\n",
    "\n",
    "print('''\n",
    "      +---+\n",
    "      |   |\n",
    "      O   |\n",
    "     \\|/  |\n",
    "      |   |\n",
    "     / \\  |\n",
    "          |\n",
    "    =========''')\n",
    "\n",
    "print('''\n",
    "      +---+\n",
    "      |   |\n",
    "      O   |\n",
    "     /|\\  |\n",
    "      |   |\n",
    "     / \\  |\n",
    "          |\n",
    "    =========''')"
   ]
  },
  {
   "cell_type": "markdown",
   "metadata": {},
   "source": [
    "# Pseudocódigo\n",
    "\n",
    "- Importamos una lista de palabras de la temática que queramos\n",
    "\n",
    "`[Lista de palabras random]`\n",
    "\n",
    "- De manera aleatoria, se selecciona una palabra de esa lista\n",
    "\n",
    "`seleccionar palabra de [Lista de palabras random]`\n",
    "\n",
    "- Imprimimos los guiones para indicar al usuario cuántas letras tiene la palabra. (Sugerencia: imprimir también \"La palabra tiene X letras\").\n",
    "\n",
    "`imprimir(número de guiones = longitud de palabra random)`\n",
    "\n",
    "- Creamos la variable intentos que equivale al número de vidas. El usuario comenzará con 7 intentos (7 vidas) que se irán restando a medida que falle. Las letras introducidas que sean erróneas, las iremos acumulando en una lista llamada \"letras falladas\" que al principio estará vacía.\n",
    "\n",
    "`intentos = 7`\n",
    "\n",
    "`letras falladas = []`\n",
    "\n",
    "- Creamos la lista [ahorca] con la evolución de la ahorca en siete estados que representa el número de vidas que le quedan al usuario.\n",
    "\n",
    "`[ahorca] = (0 vidas, 1 vida, 2 vidas, 3 vidas, 4 vidas, 5 vidas, 6 vidas)`\n",
    "\n",
    "- Escribimos una condición que se repita mientras que el usuario tenga vidas y la palabra aún no se ha descubierto.\n",
    "\n",
    "`Mientras intentos y numero_de_letras_ocultas != 0, ocurrirá:`\n",
    "\n",
    "- Solicitamos al usuario que inserte una letra de la A a la Z. La transformaremos a mayúscula para no distinguir entre min y mayus.\n",
    "\n",
    "`mayus(input letra)`\n",
    "\n",
    "- Si la letra introducida se encuentra en la palabra, se mostrará en pantalla la letra en el lugar correspondiente de la palabra. Además, se imprimen las letras que el usuario lleve falladas.\n",
    "\n",
    "`imprimir('letra' en posición de letra correspondiente en la palabra)`\n",
    "\n",
    "`imprimir([letras falladas])`\n",
    "\n",
    "- Si no, imprimimos los guiones con las letras que el usuario lleve acertadas, además de las letras falladas añadiendo la última letra insertada. Restamos un intento y mostramos en pantalla la ahorca en su nivel correspondiente al número de vidas que ha perdido el usuario. Además. imprimiremos en pantalla la ahorca en función del número de vidas restante\n",
    "\n",
    "`print(guiones + letras acertadas)`\n",
    "\n",
    "`print([letras falladas] + ultima letra insertada)`\n",
    "\n",
    "`intentos -= 1`\n",
    "\n",
    "`print([ahorca][intentos])`\n",
    "\n",
    "- La condición 'Mientras intentos y numero_de_letras_ocultas != 0\" se detendrá cuando el usuario acierte la palabra, o cuando se quede sin vidas. Entonces ocurrirá:\n",
    "\n",
    "    - Si el usuario acierta la palabra, se imprimirá en pantalla la palabra más un mensaje de enhorabuena.\n",
    "\n",
    "    `print(palabra random)`\n",
    "\n",
    "    `print(\"Enhorabuena, has acertado!\")`\n",
    "\n",
    "    - Si el usuario se queda sin vidas, entonces se imprimirá en pantalla la posición 0 de la lista [ahorca] y un mensaje que indique al usuario que ha perdido.\n",
    "\n",
    "    `print([ahorca][0])`\n",
    "\n",
    "    `print(\"Has perdido, prueba a jugar otra partida\")`\n",
    "\n"
   ]
  }
 ],
 "metadata": {
  "kernelspec": {
   "display_name": "base",
   "language": "python",
   "name": "python3"
  },
  "language_info": {
   "codemirror_mode": {
    "name": "ipython",
    "version": 3
   },
   "file_extension": ".py",
   "mimetype": "text/x-python",
   "name": "python",
   "nbconvert_exporter": "python",
   "pygments_lexer": "ipython3",
   "version": "3.12.4"
  }
 },
 "nbformat": 4,
 "nbformat_minor": 2
}
