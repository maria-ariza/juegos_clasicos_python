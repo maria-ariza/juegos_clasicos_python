{
 "cells": [
  {
   "cell_type": "markdown",
   "metadata": {},
   "source": [
    "Piedra, papel y tijera: "
   ]
  },
  {
   "cell_type": "markdown",
   "metadata": {},
   "source": [
    "Nuevo Piedra, papel y tijera: \"Despertador, Café y Siesta\" **¿Con qué must te quedas?**\n",
    "\n",
    "Elementos del juego:\n",
    "1. Despertador (posiblemente, el objeto más odidado de toda la casa)\n",
    "2. Siesta (Lo mejor que han inventado los españoles, por encima de las persianas).\n",
    "3. Café (La salvación de cada mañana).\n",
    "\n",
    "Reglas del juego:\n",
    "* Despertador gana a la Siesta (por desgracia). \n",
    "* Siesta gana al Café (porque, a veces, ni el café puede con ese sueño de después de comer...). \n",
    "* Café gana a Despertador (porque después de una noche de maratón de estudios, el café será tu mejor amigo por la mañana).\n",
    "\n"
   ]
  },
  {
   "cell_type": "markdown",
   "metadata": {},
   "source": [
    "Elecciones del Usuario:\n",
    "\n",
    "    *Cuantos partidos hay que ganar para ser la campeona .\n",
    "    *Hay la opción de jugar contra Python o contra un compañero."
   ]
  },
  {
   "cell_type": "code",
   "execution_count": 1,
   "metadata": {},
   "outputs": [],
   "source": [
    "# Hay que importar la librería 'random' para elegir la opción del ordenador(Python).\n",
    "import random "
   ]
  },
  {
   "cell_type": "code",
   "execution_count": 2,
   "metadata": {},
   "outputs": [],
   "source": [
    "# Función para dar la Bienvenida al usuario al entrar en el juego y las reglas\n",
    "\n",
    "def bienvenida ():\n",
    "    nombre_usuario = input(\"Escriba tu nombre, por favor:\") #solicitar el nombre de la usuaria\n",
    "\n",
    "    print (f\"¡🩵Bienvenida {nombre_usuario}🩵, vamos a empezar la diversión con nuestra elección de cada día: 'Despertador⏰ o Café☕ o Siesta😴'!\")\n",
    "\n",
    "    print(\"------------------------------------------------------\")\n",
    "    \n",
    "    print(f\"¿{nombre_usuario}, estas lista para ver las reglas del juego?🧐\")\n",
    "    print(input(\"Sí\" \"/\" \"No\"))\n",
    "\n",
    "    print(\"------------------------------------------------------\")\n",
    "\n",
    "    print(f\"\"\"🎯Las reglas son:\n",
    "      * Tú puedes elegir contra quien quieres jugar: 'Python' o una compañera.\n",
    "      * Hay que decir cuantos partidos es necesario para ser la campeona\n",
    "\n",
    "    🔊Elementos del juego:\n",
    "      * Despertador (posiblemente, el objeto más odidado de toda la casa☠️)\n",
    "      * Siesta (Lo mejor que han inventado los españoles💃, por encima de las persianas).\n",
    "      * Café (La salvación 🙏 de cada mañana).\n",
    "\n",
    "    🔓Reglas del juego:\n",
    "      * Despertador gana a la Siesta (por desgracia). \n",
    "      * Siesta gana al Café (porque, a veces, ni el café puede con ese sueño de después de comer...). \n",
    "      * Café gana a Despertador (porque después de una noche de maratón de estudios, el café será tu mejor amigo por la mañana).\"\"\")\n",
    "    \n",
    "    return nombre_usuario"
   ]
  },
  {
   "cell_type": "code",
   "execution_count": 3,
   "metadata": {},
   "outputs": [],
   "source": [
    "# Usuario elige contra quien quiere jugar\n",
    "\n",
    "def elegir_oponente():\n",
    "\n",
    "    oponente = input(f\"Quieres jugar contra una compañera? Si es así digita sí.\")\n",
    "    print(\"------------------------------------------------------\")\n",
    "    if oponente in [\"sí\",\"Sí\",\"SÍ\",\"sÍ\", \"SI\", \"si\", \"sI\"]:\n",
    "        oponente = input(f\"Digita el nombre de tu compañera:\")\n",
    "    else:\n",
    "        oponente = \"Python\"\n",
    "\n",
    "    print (f\"Tu oponente es {oponente}🤭\")"
   ]
  },
  {
   "cell_type": "code",
   "execution_count": 4,
   "metadata": {},
   "outputs": [],
   "source": [
    "# Función para la antidad partidos para ganar el duelo. Utilizar el Try Except para si el usuario poner texto y no un número\n",
    "\n",
    "def obtener_puntos_target():\n",
    "\n",
    "    try:\n",
    "        puntos_target = int(input(f\"Cuantos partidos hay que ganar para ser la campeona de este duelo?\"))\n",
    "        print(f\"¡OJO! 👀 tienes que ganar {puntos_target} partidos para ser la campeona.🥇\")\n",
    "        return \n",
    "    except:\n",
    "        print(f\"Por favor, hay que poner un número para que los 'puntos_target' sean válidos\")\n",
    "        return None"
   ]
  },
  {
   "cell_type": "code",
   "execution_count": 5,
   "metadata": {},
   "outputs": [],
   "source": [
    "#Función para enseñar los puntos actuales de cada jugador y la cantidad de partidos ya jugadas\n",
    "\n",
    "def total(puntos_usuario, puntos_oponente, partidos):\n",
    "    print(f\"\"\"Puntos totales del duelo 🤼‍♀️:\n",
    "       🔵{nombre_usuario}: {puntos_usuario}\n",
    "       🟢{oponente}: {puntos_oponente}\n",
    "        en un total de {partidos} partidos\"\"\")"
   ]
  },
  {
   "cell_type": "code",
   "execution_count": 6,
   "metadata": {},
   "outputs": [],
   "source": [
    "# Función para verificar si alguien ha alcanzado los puntos objetivo para ganar el duelo\n",
    "\n",
    "def ganador(puntos_usuario, puntos_target):\n",
    "\n",
    "    if puntos_usuario == puntos_target:\n",
    "        print(f\"¡🎉🎉Felicidades {nombre_usuario}!🎁🏆 Has ganado el juego.🎉🎉\")\n",
    "    else:\n",
    "        print(f\"{oponente} te ha ganado el juego. Hay que estudiar más. ⚒️🔦📔\")"
   ]
  },
  {
   "cell_type": "code",
   "execution_count": 9,
   "metadata": {},
   "outputs": [],
   "source": [
    "# Función para seguir el juego dependiendo de tu oponente\n",
    "\n",
    "def game():\n",
    "\n",
    "    # Llamar a la función de bienvenida a la usuaria\n",
    "    bienvenida()\n",
    "\n",
    "    # Llamar a la función que definirá la cantidad de partidos para obtener la campeona\n",
    "    obtener_puntos_target()\n",
    "\n",
    "    # Llamar la función para elegir el oponente\n",
    "    elegir_oponente()\n",
    "    \n",
    "    # Inicializar puntos y partidos\n",
    "\n",
    "    puntos_usuario = 0\n",
    "    puntos_oponente = 0 \n",
    "    partidos = 0\n",
    "    juego = [\"despertador\", \"siesta\", \"cafe\"] \n",
    "    \n",
    "    # Bucle para el juego\n",
    "    # Condición que el juego seguirá el bucle, hasta que un jugador este por debajo de los puntos_target\n",
    "    while puntos_usuario < puntos_target and puntos_oponente < puntos_target: \n",
    "      \n",
    "        op_usuario = input (f\"{nombre_usuario}, ⏩elige entre {juego}⏪\")\n",
    "\n",
    "        # Validar la elección del jugador\n",
    "        while op_usuario not in juego:\n",
    "            print(\"❌❌Elección no válida. Inténtalo de nuevo.❌❌\")\n",
    "            op_usuario = input (f\"{nombre_usuario}, ⏩elige entre {juego}⏪\")\n",
    "            \n",
    "        # Validar la elección del oponente\n",
    "        if oponente == \"Python\": \n",
    "\n",
    "            # Generar la elección aleatoria del ordenador(Python)\n",
    "            op_oponente = random.choice(juego)  \n",
    "            \n",
    "        else:\n",
    "            op_oponente = input (f\"{oponente}, elige entre {juego}\")            \n",
    "            while op_oponente not in juego:\n",
    "                print(\"❌❌Elección no válida. Inténtalo de nuevo.❌❌\")\n",
    "                op_oponente = input (f\"{oponente}, ⏩elige entre {juego}⏪\")      \n",
    "              \n",
    "        # Comprobar que cada jugador ha elegido\n",
    "        print(f\"✔️{nombre_usuario} ha elegido: {op_usuario}\")\n",
    "        print(f\"✔️{oponente} ha elegido: {op_oponente}\")  \n",
    "\n",
    "        # Determinar el ganador del partido\n",
    "        if op_usuario == op_oponente:\n",
    "            print(\"🟰Empate.🟰\")\n",
    "            partidos += 1\n",
    "\n",
    "            # Mostrar los puntos actuales de cada uno y partidos\n",
    "            print(f\"✅Puntos - Usuario: {puntos_usuario}, {oponente}: {puntos_oponente}\")\n",
    "            print(f\"✅Cantidad de partidos hasta ahora:{partidos}\")\n",
    "            print(\"------------------------------------\")\n",
    "\n",
    "        elif (op_usuario == \"despertador\" and op_oponente == \"siesta\") or (op_usuario == \"siesta\" and op_oponente == \"cafe\") or (op_usuario == \"cafe\" and op_oponente == \"despertador\"):\n",
    "            puntos_usuario += 1\n",
    "            partidos += 1\n",
    "            print(f\"🤞¡Ganaste esta ronda, felicidades {nombre_usuario}!🤞\")\n",
    "\n",
    "            # Mostrar los puntos actuales de cada uno y partidos\n",
    "            print(f\"✅Puntos - Usuario: {puntos_usuario}, {oponente}: {puntos_oponente}\")\n",
    "            print(f\"✅Cantidad de partidos hasta ahora:{partidos}\")\n",
    "            print(\"------------------------------------\")\n",
    "            \n",
    "        else:\n",
    "            puntos_oponente += 1\n",
    "            partidos += 1\n",
    "            print(f\"{oponente} te ha ganado este partido.🫥\")\n",
    "\n",
    "            # Mostrar los puntos actuales de cada uno y partidos\n",
    "            print(f\"✅Puntos - Usuario: {puntos_usuario}, {oponente}: {puntos_oponente}\")\n",
    "            print(f\"✅Cantidad de partidos hasta ahora:{partidos}\")\n",
    "            print(\"------------------------------------\")\n",
    "\n",
    "    # Llamar la función para mostrar los puntos actuales de cada uno      \n",
    "    total(puntos_usuario, puntos_oponente, partidos)\n",
    "    \n",
    "    # Llamar la función para Verificar si alguien ha alcanzado los puntos objetivo para ganar el duelo\n",
    "    ganador(puntos_usuario, puntos_target)  "
   ]
  },
  {
   "cell_type": "code",
   "execution_count": 10,
   "metadata": {},
   "outputs": [
    {
     "name": "stdout",
     "output_type": "stream",
     "text": [
      "¡🩵Bienvenida Iara🩵, vamos a empezar la diversión con nuestra elección de cada día: 'Despertador⏰ o Café☕ o Siesta😴'!\n",
      "------------------------------------------------------\n",
      "¿Iara, estas lista para ver las reglas del juego?🧐\n",
      "Sí\n",
      "------------------------------------------------------\n",
      "🎯Las reglas son:\n",
      "      * Tú puedes elegir contra quien quieres jugar: 'Python' o una compañera.\n",
      "      * Hay que decir cuantos partidos es necesario para ser la campeona\n",
      "\n",
      "    🔊Elementos del juego:\n",
      "      * Despertador (posiblemente, el objeto más odidado de toda la casa☠️)\n",
      "      * Siesta (Lo mejor que han inventado los españoles💃, por encima de las persianas).\n",
      "      * Café (La salvación 🙏 de cada mañana).\n",
      "\n",
      "    🔓Reglas del juego:\n",
      "      * Despertador gana a la Siesta (por desgracia). \n",
      "      * Siesta gana al Café (porque, a veces, ni el café puede con ese sueño de después de comer...). \n",
      "      * Café gana a Despertador (porque después de una noche de maratón de estudios, el café será tu mejor amigo por la mañana).\n",
      "¡OJO! 👀 tienes que ganar 2 partidos para ser la campeona.🥇\n",
      "------------------------------------------------------\n",
      "Tu oponente es Python🤭\n"
     ]
    },
    {
     "ename": "NameError",
     "evalue": "name 'puntos_target' is not defined",
     "output_type": "error",
     "traceback": [
      "\u001b[0;31m---------------------------------------------------------------------------\u001b[0m",
      "\u001b[0;31mNameError\u001b[0m                                 Traceback (most recent call last)",
      "Cell \u001b[0;32mIn[10], line 2\u001b[0m\n\u001b[1;32m      1\u001b[0m \u001b[38;5;66;03m# JUGAR. Llamamos a la función Game, con los parametros deseados\u001b[39;00m\n\u001b[0;32m----> 2\u001b[0m game()\n",
      "Cell \u001b[0;32mIn[9], line 23\u001b[0m, in \u001b[0;36mgame\u001b[0;34m()\u001b[0m\n\u001b[1;32m     19\u001b[0m juego \u001b[38;5;241m=\u001b[39m [\u001b[38;5;124m\"\u001b[39m\u001b[38;5;124mdespertador\u001b[39m\u001b[38;5;124m\"\u001b[39m, \u001b[38;5;124m\"\u001b[39m\u001b[38;5;124msiesta\u001b[39m\u001b[38;5;124m\"\u001b[39m, \u001b[38;5;124m\"\u001b[39m\u001b[38;5;124mcafe\u001b[39m\u001b[38;5;124m\"\u001b[39m] \n\u001b[1;32m     21\u001b[0m \u001b[38;5;66;03m# Bucle para el juego\u001b[39;00m\n\u001b[1;32m     22\u001b[0m \u001b[38;5;66;03m# Condición que el juego seguirá el bucle, hasta que un jugador este por debajo de los puntos_target\u001b[39;00m\n\u001b[0;32m---> 23\u001b[0m \u001b[38;5;28;01mwhile\u001b[39;00m puntos_usuario \u001b[38;5;241m<\u001b[39m puntos_target \u001b[38;5;129;01mand\u001b[39;00m puntos_oponente \u001b[38;5;241m<\u001b[39m puntos_target: \n\u001b[1;32m     25\u001b[0m     op_usuario \u001b[38;5;241m=\u001b[39m \u001b[38;5;28minput\u001b[39m (\u001b[38;5;124mf\u001b[39m\u001b[38;5;124m\"\u001b[39m\u001b[38;5;132;01m{\u001b[39;00mnombre_usuario\u001b[38;5;132;01m}\u001b[39;00m\u001b[38;5;124m, ⏩elige entre \u001b[39m\u001b[38;5;132;01m{\u001b[39;00mjuego\u001b[38;5;132;01m}\u001b[39;00m\u001b[38;5;124m⏪\u001b[39m\u001b[38;5;124m\"\u001b[39m)\n\u001b[1;32m     27\u001b[0m     \u001b[38;5;66;03m# Validar la elección del jugador\u001b[39;00m\n",
      "\u001b[0;31mNameError\u001b[0m: name 'puntos_target' is not defined"
     ]
    }
   ],
   "source": [
    "# JUGAR. Llamamos a la función Game, con los parametros deseados\n",
    "game()"
   ]
  }
 ],
 "metadata": {
  "kernelspec": {
   "display_name": "base",
   "language": "python",
   "name": "python3"
  },
  "language_info": {
   "codemirror_mode": {
    "name": "ipython",
    "version": 3
   },
   "file_extension": ".py",
   "mimetype": "text/x-python",
   "name": "python",
   "nbconvert_exporter": "python",
   "pygments_lexer": "ipython3",
   "version": "3.12.4"
  }
 },
 "nbformat": 4,
 "nbformat_minor": 2
}
