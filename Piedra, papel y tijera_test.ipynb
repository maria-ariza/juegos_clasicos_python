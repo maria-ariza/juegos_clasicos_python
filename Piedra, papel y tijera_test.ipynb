{
 "cells": [
  {
   "cell_type": "markdown",
   "metadata": {},
   "source": [
    "Piedra, papel y tijera: "
   ]
  },
  {
   "cell_type": "markdown",
   "metadata": {},
   "source": [
    "Nuevo Piedra, papel y tijera: \"Despertador, Café y Siesta\" **¿Con qué must te quedas?**\n",
    "\n",
    "Elementos del juego:\n",
    "1. Despertador (posiblemente, el objeto más odidado de toda la casa)\n",
    "2. Siesta (Lo mejor que han inventado los españoles, por encima de las persianas).\n",
    "3. Café (La salvación de cada mañana).\n",
    "\n",
    "Reglas del juego:\n",
    "* Despertador gana a la Siesta (por desgracia). \n",
    "* Siesta gana al Café (porque, a veces, ni el café puede con ese sueño de después de comer...). \n",
    "* Café gana a Despertador (porque después de una noche de maratón de estudios, el café será tu mejor amigo por la mañana).\n",
    "\n"
   ]
  },
  {
   "cell_type": "markdown",
   "metadata": {},
   "source": [
    "Elecciones del Usuario:\n",
    "\n",
    "    *Cuantos partidos hay que ganar para ser la campeona .\n",
    "    *Hay la opción de jugar contra Python o contra un compañero."
   ]
  },
  {
   "cell_type": "code",
   "execution_count": 27,
   "metadata": {},
   "outputs": [],
   "source": [
    "#Hay que importar la librería 'random' para elegir la opción del ordenador(Python).\n",
    "import random "
   ]
  },
  {
   "cell_type": "code",
   "execution_count": 28,
   "metadata": {},
   "outputs": [
    {
     "name": "stdout",
     "output_type": "stream",
     "text": [
      "¡Bienvenida iara, vamos a empezar la diversión con nuestra elección de cada día: 'Despertador o Café o Siesta'!\n",
      "------------------------------------------------------\n",
      "¿iara, estas lista para ver las reglas del juego?\n"
     ]
    }
   ],
   "source": [
    "#Dar la bienvenida al usuario\n",
    "\n",
    "nombre_usuario = input(\"Escriba tu nombre, por favor:\")\n",
    "print (f\"¡Bienvenida {nombre_usuario}, vamos a empezar la diversión con nuestra elección de cada día: 'Despertador o Café o Siesta'!\")\n",
    "\n",
    "print(\"------------------------------------------------------\")\n",
    "print(f\"¿{nombre_usuario}, estas lista para ver las reglas del juego?\")"
   ]
  },
  {
   "cell_type": "code",
   "execution_count": 30,
   "metadata": {},
   "outputs": [
    {
     "name": "stdout",
     "output_type": "stream",
     "text": [
      "si\n",
      "------------------------------------------------------\n",
      "Las reglas son:\n",
      "      *Tú puedes elegir contra quien quieres jugar: 'Python' o una compañera.\n",
      "      *Hay que decir cuantos partidos es necesario para ser la campeona\n",
      "\n",
      "Elementos del juego:\n",
      "      1. Despertador (posiblemente, el objeto más odidado de toda la casa)\n",
      "      2. Siesta (Lo mejor que han inventado los españoles, por encima de las persianas).\n",
      "      3. Café (La salvación de cada mañana).\n",
      "\n",
      "Reglas del juego:\n",
      "      * Despertador gana a la Siesta (por desgracia). \n",
      "      * Siesta gana al Café (porque, a veces, ni el café puede con ese sueño de después de comer...). \n",
      "      * Café gana a Despertador (porque después de una noche de maratón de estudios, el café será tu mejor amigo por la mañana).\n"
     ]
    }
   ],
   "source": [
    "#Explicando el juego al usuario\n",
    "\n",
    "print(input(\"Sí\" \"/\" \"No\"))\n",
    "\n",
    "print(\"------------------------------------------------------\")\n",
    "\n",
    "print(f\"\"\"Las reglas son:\n",
    "      *Tú puedes elegir contra quien quieres jugar: 'Python' o una compañera.\n",
    "      *Hay que decir cuantos partidos es necesario para ser la campeona\n",
    "\n",
    "Elementos del juego:\n",
    "      1. Despertador (posiblemente, el objeto más odidado de toda la casa)\n",
    "      2. Siesta (Lo mejor que han inventado los españoles, por encima de las persianas).\n",
    "      3. Café (La salvación de cada mañana).\n",
    "\n",
    "Reglas del juego:\n",
    "      * Despertador gana a la Siesta (por desgracia). \n",
    "      * Siesta gana al Café (porque, a veces, ni el café puede con ese sueño de después de comer...). \n",
    "      * Café gana a Despertador (porque después de una noche de maratón de estudios, el café será tu mejor amigo por la mañana).\"\"\")"
   ]
  },
  {
   "cell_type": "code",
   "execution_count": 31,
   "metadata": {},
   "outputs": [
    {
     "name": "stdout",
     "output_type": "stream",
     "text": [
      "------------------------------------------------------\n",
      "Tu oponente es ana\n"
     ]
    }
   ],
   "source": [
    "#Usuario elige contra quien quiere jugar\n",
    "\n",
    "oponente = input(f\"Quieres jugar contra una compañera? Si es así digita sí.\")\n",
    "print(\"------------------------------------------------------\")\n",
    "if oponente in [\"sí\",\"Sí\",\"SÍ\",\"sÍ\", \"SI\", \"si\", \"sI\"]:\n",
    "    oponente = input(f\"Digita el nombre de tu compañero:\")\n",
    "else:\n",
    "    oponente = \"Python\"\n",
    "\n",
    "print (f\"Tu oponente es {oponente}\")"
   ]
  },
  {
   "cell_type": "code",
   "execution_count": 33,
   "metadata": {},
   "outputs": [],
   "source": [
    "#Lista con las opciones para el usuario/'python' eleigir\n",
    "\n",
    "juego = [\"despertador\", \"siesta\", \"cafe\"] "
   ]
  },
  {
   "cell_type": "code",
   "execution_count": 35,
   "metadata": {},
   "outputs": [
    {
     "name": "stdout",
     "output_type": "stream",
     "text": [
      "Que quede claro tienes que ganar 3 para ser la campeona.\n"
     ]
    }
   ],
   "source": [
    "#Cantidad partidos para ganar el duelo\n",
    "\n",
    "partidos = input(f\"Cuantos partidos hay que ganar para ser la campeona de este duelo?\")\n",
    "\n",
    "print(f\"Que quede claro tienes que ganar {partidos} para ser la campeona.\")"
   ]
  },
  {
   "cell_type": "code",
   "execution_count": 36,
   "metadata": {},
   "outputs": [],
   "source": [
    "#Función para enseñar los puntos actuales de cada jugador y la cantidad de partidos ya jugadas\n",
    "\n",
    "def total(puntos_usuario, puntos_oponente, partidos):\n",
    "    print(f\"\"\"Puntos totales del duelo:\n",
    "       *{nombre_usuario}: {puntos_usuario}\n",
    "       *{oponente}: {puntos_oponente}\n",
    "        en un total de {partidos} partidos\"\"\")"
   ]
  },
  {
   "cell_type": "code",
   "execution_count": 23,
   "metadata": {},
   "outputs": [],
   "source": [
    "# Función para verificar si alguien ha alcanzado los puntos objetivo para ganar el duelo\n",
    "\n",
    "def ganador(puntos_usuario, puntos_target):\n",
    "\n",
    "    if puntos_usuario == puntos_target:\n",
    "        print(f\"¡Felicidades {nombre_usuario}! Has ganado el juego.\")\n",
    "    else:\n",
    "        print(f\"{oponente} te ha ganado el juego. Hay que estudiar más\")"
   ]
  },
  {
   "cell_type": "code",
   "execution_count": 37,
   "metadata": {},
   "outputs": [],
   "source": [
    "# función para seguir el juego dependiendo de tu oponente\n",
    "\n",
    "def game(nombre_usuario, oponente, puntos_target):\n",
    "    \n",
    "    # inicializar puntos y partidos\n",
    "\n",
    "    puntos_usuario = 0\n",
    "    puntos_oponente = 0 \n",
    "    partidos = 0\n",
    "    \n",
    "    # Bucle para el juego\n",
    "\n",
    "    while puntos_usuario < puntos_target and puntos_oponente < puntos_target: #condición que el juego seguirá el bucle, hasta que un jugador este por debajo de los puntos_target\n",
    "      \n",
    "        op_usuario = input (f\"{nombre_usuario}, elige entre {juego}\")\n",
    "\n",
    "        # Validar la elección del jugador\n",
    "        while op_usuario not in juego:\n",
    "            print(\"Elección no válida. Inténtalo de nuevo.\")\n",
    "            op_usuario = input (f\"{nombre_usuario}, elige entre {juego}\")\n",
    "            \n",
    "        # Validar la elección del oponente\n",
    "        if oponente == \"Python\": #No puede ser ELIF porque quiero que entre en este apartado.\n",
    "\n",
    "            #Generar la elección aleatoria del ordenador(Python)\n",
    "            op_oponente = random.choice(juego)  \n",
    "            \n",
    "        else:\n",
    "            op_oponente = input (f\"{oponente}, elige entre {juego}\")            \n",
    "            while op_oponente not in juego:\n",
    "                print(\"Elección no válida. Inténtalo de nuevo.\")\n",
    "                op_oponente = input (f\"{oponente}, elige entre {juego}\")      \n",
    "              \n",
    "        #Comprobar que cada jugador ha elegido\n",
    "        print(f\"{nombre_usuario} ha elegido: {op_usuario}\")\n",
    "        print(f\"{oponente} ha elegido: {op_oponente}\")  \n",
    "\n",
    "        # Determinar el ganador del partido\n",
    "        if op_usuario == op_oponente:\n",
    "            print(\"Empate.\")\n",
    "            partidos += 1\n",
    "\n",
    "            #Mostrar los puntos actuales de cada uno y partidos\n",
    "            print(f\"Puntos - Usuario: {puntos_usuario}, {oponente}: {puntos_oponente}\")\n",
    "            print(f\"Cantidad de partidos hasta ahora:{partidos}\")\n",
    "            print(\"------------------------------------\")\n",
    "\n",
    "        elif (op_usuario == \"despertador\" and op_oponente == \"siesta\") or (op_usuario == \"siesta\" and op_oponente == \"cafe\") or (op_usuario == \"cafe\" and op_oponente == \"despertador\"):\n",
    "            puntos_usuario += 1\n",
    "            partidos += 1\n",
    "            print(f\"¡Ganaste esta ronda, felicidades {nombre_usuario}!\")\n",
    "\n",
    "            #Mostrar los puntos actuales de cada uno y partidos\n",
    "            print(f\"Puntos - Usuario: {puntos_usuario}, {oponente}: {puntos_oponente}\")\n",
    "            print(f\"Cantidad de partidos hasta ahora:{partidos}\")\n",
    "            print(\"------------------------------------\")\n",
    "            \n",
    "        else:\n",
    "            puntos_oponente += 1\n",
    "            partidos += 1\n",
    "            print(f\"{oponente} te ha ganado este partido.\")\n",
    "\n",
    "            #Mostrar los puntos actuales de cada uno y partidos\n",
    "            print(f\"Puntos - Usuario: {puntos_usuario}, {oponente}: {puntos_oponente}\")\n",
    "            print(f\"Cantidad de partidos hasta ahora:{partidos}\")\n",
    "            print(\"------------------------------------\")\n",
    "\n",
    "    # Llamar la función para mostrar los puntos actuales de cada uno      \n",
    "    total(puntos_usuario, puntos_oponente, partidos)\n",
    "    \n",
    "    # Llamar la función para Verificar si alguien ha alcanzado los puntos objetivo para ganar el duelo\n",
    "    ganador(puntos_usuario, puntos_target)  "
   ]
  },
  {
   "cell_type": "code",
   "execution_count": 25,
   "metadata": {},
   "outputs": [
    {
     "name": "stdout",
     "output_type": "stream",
     "text": [
      "iara ha elegido: siesta\n",
      "Python ha elegido: cafe\n",
      "¡Ganaste esta ronda, felicidades iara!\n",
      "Puntos - Usuario: 1, Python: 0\n",
      "Cantidad de partidos hasta ahora:1\n",
      "------------------------------------\n",
      "Puntos totales del duelo:\n",
      "       *iara: 1\n",
      "       *Python: 0\n",
      "        en un total de 1 partidos\n",
      "¡Felicidades iara! Has ganado el juego.\n"
     ]
    }
   ],
   "source": [
    "game(nombre_usuario,oponente,1)"
   ]
  },
  {
   "cell_type": "code",
   "execution_count": null,
   "metadata": {},
   "outputs": [],
   "source": []
  }
 ],
 "metadata": {
  "kernelspec": {
   "display_name": "Python 3",
   "language": "python",
   "name": "python3"
  },
  "language_info": {
   "codemirror_mode": {
    "name": "ipython",
    "version": 3
   },
   "file_extension": ".py",
   "mimetype": "text/x-python",
   "name": "python",
   "nbconvert_exporter": "python",
   "pygments_lexer": "ipython3",
   "version": "3.12.4"
  }
 },
 "nbformat": 4,
 "nbformat_minor": 2
}
