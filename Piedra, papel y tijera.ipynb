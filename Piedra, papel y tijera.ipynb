{
 "cells": [
  {
   "cell_type": "markdown",
   "metadata": {},
   "source": [
    "Piedra, papel y tijera: "
   ]
  },
  {
   "cell_type": "markdown",
   "metadata": {},
   "source": [
    "Nuevo Piedra, papel y tijera: \"Despertador, Café y Siesta\" **¿Con qué must te quedas?**\n",
    "\n",
    "Elementos del juego:\n",
    "1. Despertador (posiblemente, el objeto más odidado de toda la casa)\n",
    "2. Siesta (Lo mejor que han inventado los españoles, por encima de las persianas).\n",
    "3. Café (La salvación de cada mañana).\n",
    "\n",
    "Reglas del juego:\n",
    "* Despertador gana a la Siesta (por desgracia). \n",
    "* Siesta gana al Café (porque, a veces, ni el café puede con ese sueño de después de comer...). \n",
    "* Café gana a Despertador (porque después de una noche de maratón de estudios, el café será tu mejor amigo por la mañana).\n",
    "\n"
   ]
  },
  {
   "cell_type": "markdown",
   "metadata": {},
   "source": [
    "Reglas para el duelo:\n",
    "\n",
    "    *Son 5 partidas en total.\n",
    "    *Para un jugador ser el campeón tiene que ganar 3 veces.\n",
    "    *Hay la opción de jugar con el ordenador o tener 2 jugadores."
   ]
  },
  {
   "cell_type": "code",
   "execution_count": 1,
   "metadata": {},
   "outputs": [],
   "source": [
    "#Hay que importar la librería 'random' para la opción del jugador eligir jugar contra el ordenador.\n",
    "import random "
   ]
  },
  {
   "cell_type": "code",
   "execution_count": 2,
   "metadata": {},
   "outputs": [],
   "source": [
    "#PRIMERO DUELO: contra el ordenador\n",
    "\n",
    "#DEFINIR VARIABLES para contar los puntos de cada jugador, número de partidas para ser campeón y como empezamos con los partidos\n",
    "\n",
    "puntos_usuario = 0\n",
    "puntos_ordenador = 0 \n",
    "puntos_target = 3\n",
    "partidos = 0"
   ]
  },
  {
   "cell_type": "code",
   "execution_count": 3,
   "metadata": {},
   "outputs": [],
   "source": [
    "#Lista con las opciones para el usuario/ordenador eleigir\n",
    "juego = [\"despertador\", \"siesta\", \"cafe\"]"
   ]
  },
  {
   "cell_type": "code",
   "execution_count": 4,
   "metadata": {},
   "outputs": [
    {
     "name": "stdout",
     "output_type": "stream",
     "text": [
      "siesta\n"
     ]
    }
   ],
   "source": [
    "#probando si el random funciona para la elección del ordenador\n",
    "op_ordenador = random.choice(juego) \n",
    "print (op_ordenador) "
   ]
  },
  {
   "cell_type": "code",
   "execution_count": 5,
   "metadata": {},
   "outputs": [
    {
     "name": "stdout",
     "output_type": "stream",
     "text": [
      "Elección no válida. Inténtalo de nuevo.\n",
      "El usuario ha elegido: cafe\n",
      "El ordenador ha elegido: despertador\n",
      "El usuario ha elegido: cafe\n",
      "El ordenador ha elegido: cafe\n",
      "El usuario ha elegido: siesta\n",
      "El ordenador ha elegido: despertador\n",
      "El usuario ha elegido: siesta\n",
      "El ordenador ha elegido: cafe\n",
      "El usuario ha elegido: despertador\n",
      "El ordenador ha elegido: cafe\n",
      "El usuario ha elegido: cafe\n",
      "El ordenador ha elegido: despertador\n",
      "¡Ganaste esta ronda!\n"
     ]
    }
   ],
   "source": [
    "#Bucle para el juego\n",
    "\n",
    "while puntos_usuario < puntos_target and puntos_ordenador < puntos_target and partidos <= 5: #condición que el juego seguirá el bucle\n",
    "    op_usuario = input (f\"Elige entre {juego}\")\n",
    "\n",
    "      # Validar la elección del jugador\n",
    "    if op_usuario not in juego:\n",
    "        print(\"Elección no válida. Inténtalo de nuevo.\")\n",
    "        continue #El juego debe continuar porque el ordenador aún puede elegir su opción mismo si el usuario ha elegido algo incorrecto\n",
    "\n",
    "#Generar la elección aleatoria del ordenador\n",
    "    op_ordenador = random.choice(juego)  \n",
    "\n",
    "#Comprobar que cada jugador ha elegido\n",
    "\n",
    "    print(f\"El usuario ha elegido: {op_usuario}\")\n",
    "    print(f\"El ordenador ha elegido: {op_ordenador}\")  \n",
    "\n",
    "    partidos +=1 #suma que hemos jugado un partido para que no pasemos de 5 en total\n",
    "\n",
    " # Determinar el ganador del partido\n",
    "\n",
    "if op_usuario == op_ordenador:\n",
    "    print(\"Empate.\")\n",
    "elif (op_usuario == \"despertador\" and op_ordenador == \"siesta\") or (op_usuario == \"siesta\" and op_ordenador == \"cafe\") or (op_usuario == \"cafe\" and op_ordenador == \"despertador\"):\n",
    "    puntos_usuario += 1\n",
    "    print(\"¡Ganaste esta ronda!\")\n",
    "else:\n",
    "    puntos_ordenador += 1\n",
    "    print(\"EL ordenador ha ganado este partido.\")\n",
    "    print(\"------------------------------------\")\n"
   ]
  },
  {
   "cell_type": "code",
   "execution_count": 9,
   "metadata": {},
   "outputs": [
    {
     "name": "stdout",
     "output_type": "stream",
     "text": [
      "Puntos - Usuario: 1, Ordenador: 0\n"
     ]
    }
   ],
   "source": [
    "#Mostrar los puntos actuales de cada uno\n",
    "print(f\"Puntos - Usuario: {puntos_usuario}, Ordenador: {puntos_ordenador}\")"
   ]
  },
  {
   "cell_type": "code",
   "execution_count": 8,
   "metadata": {},
   "outputs": [
    {
     "name": "stdout",
     "output_type": "stream",
     "text": [
      "El Ordenador ha ganado el juego.\n"
     ]
    }
   ],
   "source": [
    "# Verificar si alguien ha alcanzado los puntos objetivo para ganar el duelo\n",
    "if puntos_usuario == puntos_target:\n",
    "    print(\"¡Felicidades! Has ganado el juego.\")\n",
    "else:\n",
    "    print(\"El Ordenador ha ganado el juego.\")"
   ]
  },
  {
   "cell_type": "code",
   "execution_count": null,
   "metadata": {},
   "outputs": [],
   "source": []
  },
  {
   "cell_type": "code",
   "execution_count": null,
   "metadata": {},
   "outputs": [],
   "source": []
  }
 ],
 "metadata": {
  "kernelspec": {
   "display_name": "Python 3",
   "language": "python",
   "name": "python3"
  },
  "language_info": {
   "codemirror_mode": {
    "name": "ipython",
    "version": 3
   },
   "file_extension": ".py",
   "mimetype": "text/x-python",
   "name": "python",
   "nbconvert_exporter": "python",
   "pygments_lexer": "ipython3",
   "version": "3.12.4"
  }
 },
 "nbformat": 4,
 "nbformat_minor": 2
}
