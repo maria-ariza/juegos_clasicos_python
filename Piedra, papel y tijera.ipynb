{
 "cells": [
  {
   "cell_type": "markdown",
   "metadata": {},
   "source": [
    "Piedra, papel y tijera: "
   ]
  },
  {
   "cell_type": "markdown",
   "metadata": {},
   "source": [
    "Nuevo Piedra, papel y tijera: \"Despertador, Café y Siesta\" **¿Con qué must te quedas?**\n",
    "\n",
    "Elementos del juego:\n",
    "1. Despertador (posiblemente, el objeto más odidado de toda la casa)\n",
    "2. Siesta (Lo mejor que han inventado los españoles, por encima de las persianas).\n",
    "3. Café (La salvación de cada mañana).\n",
    "\n",
    "Reglas del juego:\n",
    "* Despertador gana a la Siesta (por desgracia). \n",
    "* Siesta gana al Café (porque, a veces, ni el café puede con ese sueño de después de comer...). \n",
    "* Café gana a Despertador (porque después de una noche de maratón de estudios, el café será tu mejor amigo por la mañana).\n",
    "\n"
   ]
  },
  {
   "cell_type": "markdown",
   "metadata": {},
   "source": [
    "Reglas para el duelo:\n",
    "\n",
    "    *Para un jugador ser el campeón tiene que ganar 3 veces.\n",
    "    *Hay la opción de jugar con el ordenador o tener 2 jugadores."
   ]
  },
  {
   "cell_type": "code",
   "execution_count": 1,
   "metadata": {},
   "outputs": [],
   "source": [
    "#Hay que importar la librería 'random' para la opción del jugador eligir jugar contra el ordenador.\n",
    "import random "
   ]
  },
  {
   "cell_type": "code",
   "execution_count": 5,
   "metadata": {},
   "outputs": [
    {
     "name": "stdout",
     "output_type": "stream",
     "text": [
      "¡Bienvenida marcelus, vamos a empezar la diversión con nuestra elección de cada día: 'Despertador o Café o Siesta'!\n",
      "------------------------------------------------------\n",
      "¿marcelus, estas lista para ver las reglas del juego?\n"
     ]
    }
   ],
   "source": [
    "#Dar la bienvenida al usuario\n",
    "\n",
    "nombre_usuario = input(\"Escriba tu nombre, por favor:\")\n",
    "print (f\"¡Bienvenida {nombre_usuario}, vamos a empezar la diversión con nuestra elección de cada día: 'Despertador o Café o Siesta'!\")\n",
    "\n",
    "print(\"------------------------------------------------------\")\n",
    "print(f\"¿{nombre_usuario}, estas lista para ver las reglas del juego?\")"
   ]
  },
  {
   "cell_type": "code",
   "execution_count": 6,
   "metadata": {},
   "outputs": [
    {
     "name": "stdout",
     "output_type": "stream",
     "text": [
      "sí\n",
      "------------------------------------------------------\n",
      "Las reglas son:\n",
      "      *Tú jugarás contra 'Python'\n",
      "      *Hay que ganar tres partidos para ser la campeona\n",
      "\n",
      "Elementos del juego:\n",
      "      1. Despertador (posiblemente, el objeto más odidado de toda la casa)\n",
      "      2. Siesta (Lo mejor que han inventado los españoles, por encima de las persianas).\n",
      "      3. Café (La salvación de cada mañana).\n",
      "\n",
      "Reglas del juego:\n",
      "      * Despertador gana a la Siesta (por desgracia). \n",
      "      * Siesta gana al Café (porque, a veces, ni el café puede con ese sueño de después de comer...). \n",
      "      * Café gana a Despertador (porque después de una noche de maratón de estudios, el café será tu mejor amigo por la mañana).\n"
     ]
    }
   ],
   "source": [
    "#Explicando el juego al usuario\n",
    "\n",
    "print(input(\"Sí\" \"/\" \"No\"))\n",
    "\n",
    "print(\"------------------------------------------------------\")\n",
    "\n",
    "print(f\"\"\"Las reglas son:\n",
    "      *Tú jugarás contra 'Python'\n",
    "      *Hay que ganar tres partidos para ser la campeona\n",
    "\n",
    "Elementos del juego:\n",
    "      1. Despertador (posiblemente, el objeto más odidado de toda la casa)\n",
    "      2. Siesta (Lo mejor que han inventado los españoles, por encima de las persianas).\n",
    "      3. Café (La salvación de cada mañana).\n",
    "\n",
    "Reglas del juego:\n",
    "      * Despertador gana a la Siesta (por desgracia). \n",
    "      * Siesta gana al Café (porque, a veces, ni el café puede con ese sueño de después de comer...). \n",
    "      * Café gana a Despertador (porque después de una noche de maratón de estudios, el café será tu mejor amigo por la mañana).\"\"\")"
   ]
  },
  {
   "cell_type": "code",
   "execution_count": 21,
   "metadata": {},
   "outputs": [],
   "source": [
    "#PRIMERO DUELO: contra el ordenador (Python)\n",
    "\n",
    "#DEFINIR VARIABLES para contar los puntos de cada jugador, número de partidas para ser campeón y como empezamos con los partidos\n",
    "\n",
    "puntos_usuario = 0\n",
    "puntos_python = 0 \n",
    "puntos_target = 3\n",
    "partidos = 0"
   ]
  },
  {
   "cell_type": "code",
   "execution_count": 16,
   "metadata": {},
   "outputs": [],
   "source": [
    "#Lista con las opciones para el usuario/'python' eleigir\n",
    "juego = [\"despertador\", \"siesta\", \"cafe\"] "
   ]
  },
  {
   "cell_type": "code",
   "execution_count": 10,
   "metadata": {},
   "outputs": [
    {
     "name": "stdout",
     "output_type": "stream",
     "text": [
      "siesta\n"
     ]
    }
   ],
   "source": [
    "#probando si el random funciona para la elección del ordenador\n",
    "op_python = random.choice(juego) \n",
    "print (op_python) "
   ]
  },
  {
   "cell_type": "code",
   "execution_count": 20,
   "metadata": {},
   "outputs": [
    {
     "name": "stdout",
     "output_type": "stream",
     "text": [
      "Elección no válida. Inténtalo de nuevo.\n",
      "Elección no válida. Inténtalo de nuevo.\n"
     ]
    }
   ],
   "source": [
    "#Bucle para el juego\n",
    "\n",
    "while puntos_usuario < puntos_target and puntos_python < puntos_target: #condición que el juego seguirá el bucle, hasta que un jugador este por debajo de los puntos_target\n",
    "    op_usuario = input (f\"Elige entre {juego}\")\n",
    "\n",
    "    # Validar la elección del jugador\n",
    "    if op_usuario not in juego:\n",
    "        print(\"Elección no válida. Inténtalo de nuevo.\")\n",
    "        continue #El juego debe continuar porque el ordenador aún puede elegir su opción mismo si el usuario ha elegido algo incorrecto\n",
    "    else:\n",
    "    #Generar la elección aleatoria del ordenador\n",
    "        op_python = random.choice(juego)  \n",
    "            \n",
    "    #Comprobar que cada jugador ha elegido\n",
    "\n",
    "        print(f\"El usuario ha elegido: {op_usuario}\")\n",
    "        print(f\"Python ha elegido: {op_python}\")  \n",
    "\n",
    "\n",
    "    # Determinar el ganador del partido\n",
    "\n",
    "        if op_usuario == op_python:\n",
    "\n",
    "            print(\"Empate.\")\n",
    "            partidos += 1\n",
    "\n",
    "            #Mostrar los puntos actuales de cada uno y partidos\n",
    "            print(f\"Puntos - Usuario: {puntos_usuario}, Python: {puntos_python}\")\n",
    "            print(f\"Cantidad de partidos hasta ahora:{partidos}\")\n",
    "            print(\"------------------------------------\")\n",
    "\n",
    "        elif (op_usuario == \"despertador\" and op_python == \"siesta\") or (op_usuario == \"siesta\" and op_python == \"cafe\") or (op_usuario == \"cafe\" and op_python == \"despertador\"):\n",
    "            puntos_usuario += 1\n",
    "            partidos += 1\n",
    "            print(f\"¡Ganaste esta ronda, felicidades {nombre_usuario}!\")\n",
    "\n",
    "            #Mostrar los puntos actuales de cada uno y partidos\n",
    "            print(f\"Puntos - Usuario: {puntos_usuario}, Python: {puntos_python}\")\n",
    "            print(f\"Cantidad de partidos hasta ahora:{partidos}\")\n",
    "            print(\"------------------------------------\")\n",
    "            \n",
    "        else:\n",
    "            puntos_python += 1\n",
    "            partidos += 1\n",
    "            print(\"Python te ha ganado este partido.\")\n",
    "\n",
    "            #Mostrar los puntos actuales de cada uno y partidos\n",
    "            print(f\"Puntos - Usuario: {puntos_usuario}, Python: {puntos_python}\")\n",
    "            print(f\"Cantidad de partidos hasta ahora:{partidos}\")\n",
    "            print(\"------------------------------------\")\n"
   ]
  },
  {
   "cell_type": "code",
   "execution_count": 18,
   "metadata": {},
   "outputs": [
    {
     "name": "stdout",
     "output_type": "stream",
     "text": [
      "Puntos totales del duelo:\n",
      "       *marcelus: 3\n",
      "       *Python: 2\n",
      "en un total de 12 partidos\n"
     ]
    }
   ],
   "source": [
    "#Mostrar los puntos actuales de cada uno\n",
    "\n",
    "print(f\"\"\"Puntos totales del duelo:\n",
    "       *{nombre_usuario}: {puntos_usuario}\n",
    "       *Python: {puntos_python}\n",
    "en un total de {partidos} partidos\"\"\")"
   ]
  },
  {
   "cell_type": "code",
   "execution_count": 19,
   "metadata": {},
   "outputs": [
    {
     "name": "stdout",
     "output_type": "stream",
     "text": [
      "¡Felicidades marcelus! Has ganado el juego.\n"
     ]
    }
   ],
   "source": [
    "# Verificar si alguien ha alcanzado los puntos objetivo para ganar el duelo\n",
    "\n",
    "if puntos_usuario == puntos_target:\n",
    "    print(f\"¡Felicidades {nombre_usuario}! Has ganado el juego.\")\n",
    "else:\n",
    "    print(\"Python te ha ganado el juego. Hay que estudiar más\")"
   ]
  },
  {
   "cell_type": "code",
   "execution_count": null,
   "metadata": {},
   "outputs": [],
   "source": []
  }
 ],
 "metadata": {
  "kernelspec": {
   "display_name": "base",
   "language": "python",
   "name": "python3"
  },
  "language_info": {
   "codemirror_mode": {
    "name": "ipython",
    "version": 3
   },
   "file_extension": ".py",
   "mimetype": "text/x-python",
   "name": "python",
   "nbconvert_exporter": "python",
   "pygments_lexer": "ipython3",
   "version": "3.12.4"
  }
 },
 "nbformat": 4,
 "nbformat_minor": 2
}
