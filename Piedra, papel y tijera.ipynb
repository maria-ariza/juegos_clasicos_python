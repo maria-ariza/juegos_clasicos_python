{
 "cells": [
  {
   "cell_type": "markdown",
   "metadata": {},
   "source": [
    "Piedra, papel y tijera: "
   ]
  },
  {
   "cell_type": "markdown",
   "metadata": {},
   "source": [
    "1. Juego: **La batalla de los esteriotipos\"** \n",
    "\n",
    "\"Gato, castañuela, samba y sardina\"\n",
    "\n",
    "Elementos del juego:\n",
    "\n",
    "1. Gato de Madrid.\n",
    "2. Castañuela de Cádiz.\n",
    "3. Sardina de Barcelona.\n",
    "4. Samba de Brasil.\n",
    "\n",
    "Reglas del juego:\n",
    "\n",
    "* Gato gana a la sardina. \n",
    "* Sardina gana a la castañuela.\n",
    "* Castañuela de Cádiz gana a samba. \n",
    "* Samba gana al gato de Madrid.\n",
    "\n",
    "Extensión opcional (si quieres más opciones) --> ¿añade un quinto elemento que mate a todos si sale? \n",
    "\n",
    "\n",
    "2. Juego: \"Despertador, Wi-Fi, Café y Siesta\" **¿Con qué must te quedas?**\n",
    "\n",
    "Elementos del juego:\n",
    "1. Despertador (posiblemente, el objeto más odidado de toda la casa)\n",
    "2. Café (La salvación de cada mañana).\n",
    "4. Siesta (Lo mejor que han inventado los españoles, por encima de las persianas).\n",
    "5. Python (porque el vicio puede con todo y te acaba matando).\n",
    "\n",
    "Reglas del juego:\n",
    "* Despertador gana a la Siesta (por desgracia). \n",
    "* Siesta gana al Café (porque, a veces, ni el café puede con ese sueño de después de comer...). \n",
    "* Café gana a Netflix (porque después de una noche de maratón de series, el café será tu mejor amigo por la mañana).\n",
    "* Python gana a todos (porque el vicio puede con todo y te acaba matando).\n"
   ]
  },
  {
   "cell_type": "code",
   "execution_count": 2,
   "metadata": {},
   "outputs": [
    {
     "data": {
      "text/plain": [
       "<bound method Random.choice of <random.Random object at 0x106825420>>"
      ]
     },
     "execution_count": 2,
     "metadata": {},
     "output_type": "execute_result"
    }
   ],
   "source": [
    "import random \n",
    "random.choice"
   ]
  },
  {
   "cell_type": "code",
   "execution_count": 4,
   "metadata": {},
   "outputs": [
    {
     "name": "stdout",
     "output_type": "stream",
     "text": [
      "La jugadora ha elegido: tijera\n",
      "Máquina ha elegido: papel\n"
     ]
    }
   ],
   "source": [
    "juego = [\"piedra\", \"papel\", \"tijera\"]\n",
    "jugadora = input(\"Elige: {juego}\")\n",
    "máquina = random.choice(juego)\n",
    "print(f\"La jugadora ha elegido: {jugadora}\")\n",
    "print(f\"Máquina ha elegido: {máquina}\")"
   ]
  },
  {
   "cell_type": "markdown",
   "metadata": {},
   "source": [
    "3. **Sálvame decode**\n",
    "\n",
    "Con personajes de Sálvame: Belén Esteban, Kiko Mataroso, Lydia lozano, Jorge Javier. \n",
    "Se pueden añadir sonidos temáticos (\"por Andreita, te mato / lloros de Lydia / voces...)\n",
    "Se pueden añadir más personajes ( Chelo...)\n",
    "Reglas del juego.\n",
    "Explicación de las reglas. \n",
    "\n",
    "4. **Los súper héroes del SXXI**\n",
    " Tipos de personajes con súper poderes? Influencer, tertuliano, futbolista...\n",
    "\n",
    "5. **Guerra/Batalla de planazos** : Plan A, B, C...\n",
    "- Ir de cañas, plan familiar, salir de tapas, ir al cine... "
   ]
  },
  {
   "cell_type": "code",
   "execution_count": null,
   "metadata": {},
   "outputs": [],
   "source": []
  },
  {
   "cell_type": "code",
   "execution_count": null,
   "metadata": {},
   "outputs": [],
   "source": []
  }
 ],
 "metadata": {
  "kernelspec": {
   "display_name": "Python 3",
   "language": "python",
   "name": "python3"
  },
  "language_info": {
   "codemirror_mode": {
    "name": "ipython",
    "version": 3
   },
   "file_extension": ".py",
   "mimetype": "text/x-python",
   "name": "python",
   "nbconvert_exporter": "python",
   "pygments_lexer": "ipython3",
   "version": "3.12.6"
  }
 },
 "nbformat": 4,
 "nbformat_minor": 2
}
